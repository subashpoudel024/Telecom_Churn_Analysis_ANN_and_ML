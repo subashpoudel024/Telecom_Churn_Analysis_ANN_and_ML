{
 "cells": [
  {
   "cell_type": "markdown",
   "id": "3e3c451a",
   "metadata": {},
   "source": [
    "# Data collection and pre-processing"
   ]
  },
  {
   "cell_type": "code",
   "execution_count": 1,
   "id": "44267e60",
   "metadata": {},
   "outputs": [],
   "source": [
    "import numpy as np\n",
    "import pandas as pd\n",
    "import matplotlib.pyplot as plt\n"
   ]
  },
  {
   "cell_type": "code",
   "execution_count": 2,
   "id": "648501ed",
   "metadata": {},
   "outputs": [],
   "source": [
    "df = pd.read_csv('dataset.csv')"
   ]
  },
  {
   "cell_type": "code",
   "execution_count": 3,
   "id": "70a8fdea",
   "metadata": {},
   "outputs": [
    {
     "data": {
      "text/html": [
       "<div>\n",
       "<style scoped>\n",
       "    .dataframe tbody tr th:only-of-type {\n",
       "        vertical-align: middle;\n",
       "    }\n",
       "\n",
       "    .dataframe tbody tr th {\n",
       "        vertical-align: top;\n",
       "    }\n",
       "\n",
       "    .dataframe thead th {\n",
       "        text-align: right;\n",
       "    }\n",
       "</style>\n",
       "<table border=\"1\" class=\"dataframe\">\n",
       "  <thead>\n",
       "    <tr style=\"text-align: right;\">\n",
       "      <th></th>\n",
       "      <th>customerID</th>\n",
       "      <th>gender</th>\n",
       "      <th>SeniorCitizen</th>\n",
       "      <th>Partner</th>\n",
       "      <th>Dependents</th>\n",
       "      <th>tenure</th>\n",
       "      <th>PhoneService</th>\n",
       "      <th>MultipleLines</th>\n",
       "      <th>InternetService</th>\n",
       "      <th>OnlineSecurity</th>\n",
       "      <th>...</th>\n",
       "      <th>DeviceProtection</th>\n",
       "      <th>TechSupport</th>\n",
       "      <th>StreamingTV</th>\n",
       "      <th>StreamingMovies</th>\n",
       "      <th>Contract</th>\n",
       "      <th>PaperlessBilling</th>\n",
       "      <th>PaymentMethod</th>\n",
       "      <th>MonthlyCharges</th>\n",
       "      <th>TotalCharges</th>\n",
       "      <th>Churn</th>\n",
       "    </tr>\n",
       "  </thead>\n",
       "  <tbody>\n",
       "    <tr>\n",
       "      <th>0</th>\n",
       "      <td>7590-VHVEG</td>\n",
       "      <td>Female</td>\n",
       "      <td>0</td>\n",
       "      <td>Yes</td>\n",
       "      <td>No</td>\n",
       "      <td>1</td>\n",
       "      <td>No</td>\n",
       "      <td>No phone service</td>\n",
       "      <td>DSL</td>\n",
       "      <td>No</td>\n",
       "      <td>...</td>\n",
       "      <td>No</td>\n",
       "      <td>No</td>\n",
       "      <td>No</td>\n",
       "      <td>No</td>\n",
       "      <td>Month-to-month</td>\n",
       "      <td>Yes</td>\n",
       "      <td>Electronic check</td>\n",
       "      <td>29.85</td>\n",
       "      <td>29.85</td>\n",
       "      <td>No</td>\n",
       "    </tr>\n",
       "    <tr>\n",
       "      <th>1</th>\n",
       "      <td>5575-GNVDE</td>\n",
       "      <td>Male</td>\n",
       "      <td>0</td>\n",
       "      <td>No</td>\n",
       "      <td>No</td>\n",
       "      <td>34</td>\n",
       "      <td>Yes</td>\n",
       "      <td>No</td>\n",
       "      <td>DSL</td>\n",
       "      <td>Yes</td>\n",
       "      <td>...</td>\n",
       "      <td>Yes</td>\n",
       "      <td>No</td>\n",
       "      <td>No</td>\n",
       "      <td>No</td>\n",
       "      <td>One year</td>\n",
       "      <td>No</td>\n",
       "      <td>Mailed check</td>\n",
       "      <td>56.95</td>\n",
       "      <td>1889.5</td>\n",
       "      <td>No</td>\n",
       "    </tr>\n",
       "    <tr>\n",
       "      <th>2</th>\n",
       "      <td>3668-QPYBK</td>\n",
       "      <td>Male</td>\n",
       "      <td>0</td>\n",
       "      <td>No</td>\n",
       "      <td>No</td>\n",
       "      <td>2</td>\n",
       "      <td>Yes</td>\n",
       "      <td>No</td>\n",
       "      <td>DSL</td>\n",
       "      <td>Yes</td>\n",
       "      <td>...</td>\n",
       "      <td>No</td>\n",
       "      <td>No</td>\n",
       "      <td>No</td>\n",
       "      <td>No</td>\n",
       "      <td>Month-to-month</td>\n",
       "      <td>Yes</td>\n",
       "      <td>Mailed check</td>\n",
       "      <td>53.85</td>\n",
       "      <td>108.15</td>\n",
       "      <td>Yes</td>\n",
       "    </tr>\n",
       "    <tr>\n",
       "      <th>3</th>\n",
       "      <td>7795-CFOCW</td>\n",
       "      <td>Male</td>\n",
       "      <td>0</td>\n",
       "      <td>No</td>\n",
       "      <td>No</td>\n",
       "      <td>45</td>\n",
       "      <td>No</td>\n",
       "      <td>No phone service</td>\n",
       "      <td>DSL</td>\n",
       "      <td>Yes</td>\n",
       "      <td>...</td>\n",
       "      <td>Yes</td>\n",
       "      <td>Yes</td>\n",
       "      <td>No</td>\n",
       "      <td>No</td>\n",
       "      <td>One year</td>\n",
       "      <td>No</td>\n",
       "      <td>Bank transfer (automatic)</td>\n",
       "      <td>42.30</td>\n",
       "      <td>1840.75</td>\n",
       "      <td>No</td>\n",
       "    </tr>\n",
       "    <tr>\n",
       "      <th>4</th>\n",
       "      <td>9237-HQITU</td>\n",
       "      <td>Female</td>\n",
       "      <td>0</td>\n",
       "      <td>No</td>\n",
       "      <td>No</td>\n",
       "      <td>2</td>\n",
       "      <td>Yes</td>\n",
       "      <td>No</td>\n",
       "      <td>Fiber optic</td>\n",
       "      <td>No</td>\n",
       "      <td>...</td>\n",
       "      <td>No</td>\n",
       "      <td>No</td>\n",
       "      <td>No</td>\n",
       "      <td>No</td>\n",
       "      <td>Month-to-month</td>\n",
       "      <td>Yes</td>\n",
       "      <td>Electronic check</td>\n",
       "      <td>70.70</td>\n",
       "      <td>151.65</td>\n",
       "      <td>Yes</td>\n",
       "    </tr>\n",
       "  </tbody>\n",
       "</table>\n",
       "<p>5 rows × 21 columns</p>\n",
       "</div>"
      ],
      "text/plain": [
       "   customerID  gender  SeniorCitizen Partner Dependents  tenure PhoneService   \n",
       "0  7590-VHVEG  Female              0     Yes         No       1           No  \\\n",
       "1  5575-GNVDE    Male              0      No         No      34          Yes   \n",
       "2  3668-QPYBK    Male              0      No         No       2          Yes   \n",
       "3  7795-CFOCW    Male              0      No         No      45           No   \n",
       "4  9237-HQITU  Female              0      No         No       2          Yes   \n",
       "\n",
       "      MultipleLines InternetService OnlineSecurity  ... DeviceProtection   \n",
       "0  No phone service             DSL             No  ...               No  \\\n",
       "1                No             DSL            Yes  ...              Yes   \n",
       "2                No             DSL            Yes  ...               No   \n",
       "3  No phone service             DSL            Yes  ...              Yes   \n",
       "4                No     Fiber optic             No  ...               No   \n",
       "\n",
       "  TechSupport StreamingTV StreamingMovies        Contract PaperlessBilling   \n",
       "0          No          No              No  Month-to-month              Yes  \\\n",
       "1          No          No              No        One year               No   \n",
       "2          No          No              No  Month-to-month              Yes   \n",
       "3         Yes          No              No        One year               No   \n",
       "4          No          No              No  Month-to-month              Yes   \n",
       "\n",
       "               PaymentMethod MonthlyCharges  TotalCharges Churn  \n",
       "0           Electronic check          29.85         29.85    No  \n",
       "1               Mailed check          56.95        1889.5    No  \n",
       "2               Mailed check          53.85        108.15   Yes  \n",
       "3  Bank transfer (automatic)          42.30       1840.75    No  \n",
       "4           Electronic check          70.70        151.65   Yes  \n",
       "\n",
       "[5 rows x 21 columns]"
      ]
     },
     "execution_count": 3,
     "metadata": {},
     "output_type": "execute_result"
    }
   ],
   "source": [
    "df.head()"
   ]
  },
  {
   "cell_type": "raw",
   "id": "aa9ce3b9",
   "metadata": {},
   "source": [
    " Dropping the customer_id as it is not relevant for operations."
   ]
  },
  {
   "cell_type": "code",
   "execution_count": 4,
   "id": "f0936338",
   "metadata": {},
   "outputs": [],
   "source": [
    "df.drop('customerID',axis=1,inplace=True)"
   ]
  },
  {
   "cell_type": "code",
   "execution_count": 5,
   "id": "dca3fbc3",
   "metadata": {},
   "outputs": [
    {
     "name": "stdout",
     "output_type": "stream",
     "text": [
      "<class 'pandas.core.frame.DataFrame'>\n",
      "RangeIndex: 7043 entries, 0 to 7042\n",
      "Data columns (total 20 columns):\n",
      " #   Column            Non-Null Count  Dtype  \n",
      "---  ------            --------------  -----  \n",
      " 0   gender            7043 non-null   object \n",
      " 1   SeniorCitizen     7043 non-null   int64  \n",
      " 2   Partner           7043 non-null   object \n",
      " 3   Dependents        7043 non-null   object \n",
      " 4   tenure            7043 non-null   int64  \n",
      " 5   PhoneService      7043 non-null   object \n",
      " 6   MultipleLines     7043 non-null   object \n",
      " 7   InternetService   7043 non-null   object \n",
      " 8   OnlineSecurity    7043 non-null   object \n",
      " 9   OnlineBackup      7043 non-null   object \n",
      " 10  DeviceProtection  7043 non-null   object \n",
      " 11  TechSupport       7043 non-null   object \n",
      " 12  StreamingTV       7043 non-null   object \n",
      " 13  StreamingMovies   7043 non-null   object \n",
      " 14  Contract          7043 non-null   object \n",
      " 15  PaperlessBilling  7043 non-null   object \n",
      " 16  PaymentMethod     7043 non-null   object \n",
      " 17  MonthlyCharges    7043 non-null   float64\n",
      " 18  TotalCharges      7043 non-null   object \n",
      " 19  Churn             7043 non-null   object \n",
      "dtypes: float64(1), int64(2), object(17)\n",
      "memory usage: 1.1+ MB\n"
     ]
    }
   ],
   "source": [
    "df.info()"
   ]
  },
  {
   "cell_type": "raw",
   "id": "6292dfe3",
   "metadata": {},
   "source": [
    "Replacing some categorial values with numeric values"
   ]
  },
  {
   "cell_type": "code",
   "execution_count": 6,
   "id": "04aaf9a3",
   "metadata": {},
   "outputs": [],
   "source": [
    "df['gender'].replace({'Female': 1,'Male':0},inplace=True)\n",
    "df['Partner'].replace({'No': 0,'Yes':1},inplace=True)\n",
    "df['Dependents'].replace({'No': 0,'Yes':1},inplace=True)\n",
    "\n"
   ]
  },
  {
   "cell_type": "code",
   "execution_count": 7,
   "id": "0bc54d81",
   "metadata": {},
   "outputs": [
    {
     "data": {
      "text/plain": [
       "array([0, 1], dtype=int64)"
      ]
     },
     "execution_count": 7,
     "metadata": {},
     "output_type": "execute_result"
    }
   ],
   "source": [
    "df.gender.unique()\n",
    "df.Partner.unique()\n",
    "df.Dependents.unique()"
   ]
  },
  {
   "cell_type": "raw",
   "id": "cddbbddd",
   "metadata": {},
   "source": [
    "Displaying First 5 rows of the dataset"
   ]
  },
  {
   "cell_type": "code",
   "execution_count": 8,
   "id": "918ac60b",
   "metadata": {},
   "outputs": [
    {
     "data": {
      "text/html": [
       "<div>\n",
       "<style scoped>\n",
       "    .dataframe tbody tr th:only-of-type {\n",
       "        vertical-align: middle;\n",
       "    }\n",
       "\n",
       "    .dataframe tbody tr th {\n",
       "        vertical-align: top;\n",
       "    }\n",
       "\n",
       "    .dataframe thead th {\n",
       "        text-align: right;\n",
       "    }\n",
       "</style>\n",
       "<table border=\"1\" class=\"dataframe\">\n",
       "  <thead>\n",
       "    <tr style=\"text-align: right;\">\n",
       "      <th></th>\n",
       "      <th>gender</th>\n",
       "      <th>SeniorCitizen</th>\n",
       "      <th>Partner</th>\n",
       "      <th>Dependents</th>\n",
       "      <th>tenure</th>\n",
       "      <th>PhoneService</th>\n",
       "      <th>MultipleLines</th>\n",
       "      <th>InternetService</th>\n",
       "      <th>OnlineSecurity</th>\n",
       "      <th>OnlineBackup</th>\n",
       "      <th>DeviceProtection</th>\n",
       "      <th>TechSupport</th>\n",
       "      <th>StreamingTV</th>\n",
       "      <th>StreamingMovies</th>\n",
       "      <th>Contract</th>\n",
       "      <th>PaperlessBilling</th>\n",
       "      <th>PaymentMethod</th>\n",
       "      <th>MonthlyCharges</th>\n",
       "      <th>TotalCharges</th>\n",
       "      <th>Churn</th>\n",
       "    </tr>\n",
       "  </thead>\n",
       "  <tbody>\n",
       "    <tr>\n",
       "      <th>0</th>\n",
       "      <td>1</td>\n",
       "      <td>0</td>\n",
       "      <td>1</td>\n",
       "      <td>0</td>\n",
       "      <td>1</td>\n",
       "      <td>No</td>\n",
       "      <td>No phone service</td>\n",
       "      <td>DSL</td>\n",
       "      <td>No</td>\n",
       "      <td>Yes</td>\n",
       "      <td>No</td>\n",
       "      <td>No</td>\n",
       "      <td>No</td>\n",
       "      <td>No</td>\n",
       "      <td>Month-to-month</td>\n",
       "      <td>Yes</td>\n",
       "      <td>Electronic check</td>\n",
       "      <td>29.85</td>\n",
       "      <td>29.85</td>\n",
       "      <td>No</td>\n",
       "    </tr>\n",
       "    <tr>\n",
       "      <th>1</th>\n",
       "      <td>0</td>\n",
       "      <td>0</td>\n",
       "      <td>0</td>\n",
       "      <td>0</td>\n",
       "      <td>34</td>\n",
       "      <td>Yes</td>\n",
       "      <td>No</td>\n",
       "      <td>DSL</td>\n",
       "      <td>Yes</td>\n",
       "      <td>No</td>\n",
       "      <td>Yes</td>\n",
       "      <td>No</td>\n",
       "      <td>No</td>\n",
       "      <td>No</td>\n",
       "      <td>One year</td>\n",
       "      <td>No</td>\n",
       "      <td>Mailed check</td>\n",
       "      <td>56.95</td>\n",
       "      <td>1889.5</td>\n",
       "      <td>No</td>\n",
       "    </tr>\n",
       "    <tr>\n",
       "      <th>2</th>\n",
       "      <td>0</td>\n",
       "      <td>0</td>\n",
       "      <td>0</td>\n",
       "      <td>0</td>\n",
       "      <td>2</td>\n",
       "      <td>Yes</td>\n",
       "      <td>No</td>\n",
       "      <td>DSL</td>\n",
       "      <td>Yes</td>\n",
       "      <td>Yes</td>\n",
       "      <td>No</td>\n",
       "      <td>No</td>\n",
       "      <td>No</td>\n",
       "      <td>No</td>\n",
       "      <td>Month-to-month</td>\n",
       "      <td>Yes</td>\n",
       "      <td>Mailed check</td>\n",
       "      <td>53.85</td>\n",
       "      <td>108.15</td>\n",
       "      <td>Yes</td>\n",
       "    </tr>\n",
       "    <tr>\n",
       "      <th>3</th>\n",
       "      <td>0</td>\n",
       "      <td>0</td>\n",
       "      <td>0</td>\n",
       "      <td>0</td>\n",
       "      <td>45</td>\n",
       "      <td>No</td>\n",
       "      <td>No phone service</td>\n",
       "      <td>DSL</td>\n",
       "      <td>Yes</td>\n",
       "      <td>No</td>\n",
       "      <td>Yes</td>\n",
       "      <td>Yes</td>\n",
       "      <td>No</td>\n",
       "      <td>No</td>\n",
       "      <td>One year</td>\n",
       "      <td>No</td>\n",
       "      <td>Bank transfer (automatic)</td>\n",
       "      <td>42.30</td>\n",
       "      <td>1840.75</td>\n",
       "      <td>No</td>\n",
       "    </tr>\n",
       "    <tr>\n",
       "      <th>4</th>\n",
       "      <td>1</td>\n",
       "      <td>0</td>\n",
       "      <td>0</td>\n",
       "      <td>0</td>\n",
       "      <td>2</td>\n",
       "      <td>Yes</td>\n",
       "      <td>No</td>\n",
       "      <td>Fiber optic</td>\n",
       "      <td>No</td>\n",
       "      <td>No</td>\n",
       "      <td>No</td>\n",
       "      <td>No</td>\n",
       "      <td>No</td>\n",
       "      <td>No</td>\n",
       "      <td>Month-to-month</td>\n",
       "      <td>Yes</td>\n",
       "      <td>Electronic check</td>\n",
       "      <td>70.70</td>\n",
       "      <td>151.65</td>\n",
       "      <td>Yes</td>\n",
       "    </tr>\n",
       "  </tbody>\n",
       "</table>\n",
       "</div>"
      ],
      "text/plain": [
       "   gender  SeniorCitizen  Partner  Dependents  tenure PhoneService   \n",
       "0       1              0        1           0       1           No  \\\n",
       "1       0              0        0           0      34          Yes   \n",
       "2       0              0        0           0       2          Yes   \n",
       "3       0              0        0           0      45           No   \n",
       "4       1              0        0           0       2          Yes   \n",
       "\n",
       "      MultipleLines InternetService OnlineSecurity OnlineBackup   \n",
       "0  No phone service             DSL             No          Yes  \\\n",
       "1                No             DSL            Yes           No   \n",
       "2                No             DSL            Yes          Yes   \n",
       "3  No phone service             DSL            Yes           No   \n",
       "4                No     Fiber optic             No           No   \n",
       "\n",
       "  DeviceProtection TechSupport StreamingTV StreamingMovies        Contract   \n",
       "0               No          No          No              No  Month-to-month  \\\n",
       "1              Yes          No          No              No        One year   \n",
       "2               No          No          No              No  Month-to-month   \n",
       "3              Yes         Yes          No              No        One year   \n",
       "4               No          No          No              No  Month-to-month   \n",
       "\n",
       "  PaperlessBilling              PaymentMethod  MonthlyCharges TotalCharges   \n",
       "0              Yes           Electronic check           29.85        29.85  \\\n",
       "1               No               Mailed check           56.95       1889.5   \n",
       "2              Yes               Mailed check           53.85       108.15   \n",
       "3               No  Bank transfer (automatic)           42.30      1840.75   \n",
       "4              Yes           Electronic check           70.70       151.65   \n",
       "\n",
       "  Churn  \n",
       "0    No  \n",
       "1    No  \n",
       "2   Yes  \n",
       "3    No  \n",
       "4   Yes  "
      ]
     },
     "execution_count": 8,
     "metadata": {},
     "output_type": "execute_result"
    }
   ],
   "source": [
    "df.head()"
   ]
  },
  {
   "cell_type": "raw",
   "id": "2071714f",
   "metadata": {},
   "source": [
    " I want to scale the value of tenure, monthly charges and total charges between 0 and 1. But the values of total charges are stored as non_numeric and some values are missing too. So, here's the solution."
   ]
  },
  {
   "cell_type": "code",
   "execution_count": 9,
   "id": "3771dac7",
   "metadata": {},
   "outputs": [
    {
     "data": {
      "text/plain": [
       "0       False\n",
       "1       False\n",
       "2       False\n",
       "3       False\n",
       "4       False\n",
       "        ...  \n",
       "7038    False\n",
       "7039    False\n",
       "7040    False\n",
       "7041    False\n",
       "7042    False\n",
       "Name: TotalCharges, Length: 7043, dtype: bool"
      ]
     },
     "execution_count": 9,
     "metadata": {},
     "output_type": "execute_result"
    }
   ],
   "source": [
    "from sklearn.preprocessing import MinMaxScaler\n",
    "scaling_columns= ['tenure','MonthlyCharges','TotalCharges']\n",
    "\n",
    "# Converting Total Charges to numeric\n",
    "# pd.to_numeric(df.TotalCharges)  # There are the null values as \" \"\n",
    "\n",
    "pd.to_numeric(df.TotalCharges, errors = 'coerce').isnull()\n",
    "\n"
   ]
  },
  {
   "cell_type": "code",
   "execution_count": 10,
   "id": "e4c89841",
   "metadata": {},
   "outputs": [
    {
     "data": {
      "text/html": [
       "<div>\n",
       "<style scoped>\n",
       "    .dataframe tbody tr th:only-of-type {\n",
       "        vertical-align: middle;\n",
       "    }\n",
       "\n",
       "    .dataframe tbody tr th {\n",
       "        vertical-align: top;\n",
       "    }\n",
       "\n",
       "    .dataframe thead th {\n",
       "        text-align: right;\n",
       "    }\n",
       "</style>\n",
       "<table border=\"1\" class=\"dataframe\">\n",
       "  <thead>\n",
       "    <tr style=\"text-align: right;\">\n",
       "      <th></th>\n",
       "      <th>gender</th>\n",
       "      <th>SeniorCitizen</th>\n",
       "      <th>Partner</th>\n",
       "      <th>Dependents</th>\n",
       "      <th>tenure</th>\n",
       "      <th>PhoneService</th>\n",
       "      <th>MultipleLines</th>\n",
       "      <th>InternetService</th>\n",
       "      <th>OnlineSecurity</th>\n",
       "      <th>OnlineBackup</th>\n",
       "      <th>DeviceProtection</th>\n",
       "      <th>TechSupport</th>\n",
       "      <th>StreamingTV</th>\n",
       "      <th>StreamingMovies</th>\n",
       "      <th>Contract</th>\n",
       "      <th>PaperlessBilling</th>\n",
       "      <th>PaymentMethod</th>\n",
       "      <th>MonthlyCharges</th>\n",
       "      <th>TotalCharges</th>\n",
       "      <th>Churn</th>\n",
       "    </tr>\n",
       "  </thead>\n",
       "  <tbody>\n",
       "    <tr>\n",
       "      <th>488</th>\n",
       "      <td>1</td>\n",
       "      <td>0</td>\n",
       "      <td>1</td>\n",
       "      <td>1</td>\n",
       "      <td>0</td>\n",
       "      <td>No</td>\n",
       "      <td>No phone service</td>\n",
       "      <td>DSL</td>\n",
       "      <td>Yes</td>\n",
       "      <td>No</td>\n",
       "      <td>Yes</td>\n",
       "      <td>Yes</td>\n",
       "      <td>Yes</td>\n",
       "      <td>No</td>\n",
       "      <td>Two year</td>\n",
       "      <td>Yes</td>\n",
       "      <td>Bank transfer (automatic)</td>\n",
       "      <td>52.55</td>\n",
       "      <td></td>\n",
       "      <td>No</td>\n",
       "    </tr>\n",
       "    <tr>\n",
       "      <th>753</th>\n",
       "      <td>0</td>\n",
       "      <td>0</td>\n",
       "      <td>0</td>\n",
       "      <td>1</td>\n",
       "      <td>0</td>\n",
       "      <td>Yes</td>\n",
       "      <td>No</td>\n",
       "      <td>No</td>\n",
       "      <td>No internet service</td>\n",
       "      <td>No internet service</td>\n",
       "      <td>No internet service</td>\n",
       "      <td>No internet service</td>\n",
       "      <td>No internet service</td>\n",
       "      <td>No internet service</td>\n",
       "      <td>Two year</td>\n",
       "      <td>No</td>\n",
       "      <td>Mailed check</td>\n",
       "      <td>20.25</td>\n",
       "      <td></td>\n",
       "      <td>No</td>\n",
       "    </tr>\n",
       "    <tr>\n",
       "      <th>936</th>\n",
       "      <td>1</td>\n",
       "      <td>0</td>\n",
       "      <td>1</td>\n",
       "      <td>1</td>\n",
       "      <td>0</td>\n",
       "      <td>Yes</td>\n",
       "      <td>No</td>\n",
       "      <td>DSL</td>\n",
       "      <td>Yes</td>\n",
       "      <td>Yes</td>\n",
       "      <td>Yes</td>\n",
       "      <td>No</td>\n",
       "      <td>Yes</td>\n",
       "      <td>Yes</td>\n",
       "      <td>Two year</td>\n",
       "      <td>No</td>\n",
       "      <td>Mailed check</td>\n",
       "      <td>80.85</td>\n",
       "      <td></td>\n",
       "      <td>No</td>\n",
       "    </tr>\n",
       "    <tr>\n",
       "      <th>1082</th>\n",
       "      <td>0</td>\n",
       "      <td>0</td>\n",
       "      <td>1</td>\n",
       "      <td>1</td>\n",
       "      <td>0</td>\n",
       "      <td>Yes</td>\n",
       "      <td>Yes</td>\n",
       "      <td>No</td>\n",
       "      <td>No internet service</td>\n",
       "      <td>No internet service</td>\n",
       "      <td>No internet service</td>\n",
       "      <td>No internet service</td>\n",
       "      <td>No internet service</td>\n",
       "      <td>No internet service</td>\n",
       "      <td>Two year</td>\n",
       "      <td>No</td>\n",
       "      <td>Mailed check</td>\n",
       "      <td>25.75</td>\n",
       "      <td></td>\n",
       "      <td>No</td>\n",
       "    </tr>\n",
       "    <tr>\n",
       "      <th>1340</th>\n",
       "      <td>1</td>\n",
       "      <td>0</td>\n",
       "      <td>1</td>\n",
       "      <td>1</td>\n",
       "      <td>0</td>\n",
       "      <td>No</td>\n",
       "      <td>No phone service</td>\n",
       "      <td>DSL</td>\n",
       "      <td>Yes</td>\n",
       "      <td>Yes</td>\n",
       "      <td>Yes</td>\n",
       "      <td>Yes</td>\n",
       "      <td>Yes</td>\n",
       "      <td>No</td>\n",
       "      <td>Two year</td>\n",
       "      <td>No</td>\n",
       "      <td>Credit card (automatic)</td>\n",
       "      <td>56.05</td>\n",
       "      <td></td>\n",
       "      <td>No</td>\n",
       "    </tr>\n",
       "    <tr>\n",
       "      <th>3331</th>\n",
       "      <td>0</td>\n",
       "      <td>0</td>\n",
       "      <td>1</td>\n",
       "      <td>1</td>\n",
       "      <td>0</td>\n",
       "      <td>Yes</td>\n",
       "      <td>No</td>\n",
       "      <td>No</td>\n",
       "      <td>No internet service</td>\n",
       "      <td>No internet service</td>\n",
       "      <td>No internet service</td>\n",
       "      <td>No internet service</td>\n",
       "      <td>No internet service</td>\n",
       "      <td>No internet service</td>\n",
       "      <td>Two year</td>\n",
       "      <td>No</td>\n",
       "      <td>Mailed check</td>\n",
       "      <td>19.85</td>\n",
       "      <td></td>\n",
       "      <td>No</td>\n",
       "    </tr>\n",
       "    <tr>\n",
       "      <th>3826</th>\n",
       "      <td>0</td>\n",
       "      <td>0</td>\n",
       "      <td>1</td>\n",
       "      <td>1</td>\n",
       "      <td>0</td>\n",
       "      <td>Yes</td>\n",
       "      <td>Yes</td>\n",
       "      <td>No</td>\n",
       "      <td>No internet service</td>\n",
       "      <td>No internet service</td>\n",
       "      <td>No internet service</td>\n",
       "      <td>No internet service</td>\n",
       "      <td>No internet service</td>\n",
       "      <td>No internet service</td>\n",
       "      <td>Two year</td>\n",
       "      <td>No</td>\n",
       "      <td>Mailed check</td>\n",
       "      <td>25.35</td>\n",
       "      <td></td>\n",
       "      <td>No</td>\n",
       "    </tr>\n",
       "    <tr>\n",
       "      <th>4380</th>\n",
       "      <td>1</td>\n",
       "      <td>0</td>\n",
       "      <td>1</td>\n",
       "      <td>1</td>\n",
       "      <td>0</td>\n",
       "      <td>Yes</td>\n",
       "      <td>No</td>\n",
       "      <td>No</td>\n",
       "      <td>No internet service</td>\n",
       "      <td>No internet service</td>\n",
       "      <td>No internet service</td>\n",
       "      <td>No internet service</td>\n",
       "      <td>No internet service</td>\n",
       "      <td>No internet service</td>\n",
       "      <td>Two year</td>\n",
       "      <td>No</td>\n",
       "      <td>Mailed check</td>\n",
       "      <td>20.00</td>\n",
       "      <td></td>\n",
       "      <td>No</td>\n",
       "    </tr>\n",
       "    <tr>\n",
       "      <th>5218</th>\n",
       "      <td>0</td>\n",
       "      <td>0</td>\n",
       "      <td>1</td>\n",
       "      <td>1</td>\n",
       "      <td>0</td>\n",
       "      <td>Yes</td>\n",
       "      <td>No</td>\n",
       "      <td>No</td>\n",
       "      <td>No internet service</td>\n",
       "      <td>No internet service</td>\n",
       "      <td>No internet service</td>\n",
       "      <td>No internet service</td>\n",
       "      <td>No internet service</td>\n",
       "      <td>No internet service</td>\n",
       "      <td>One year</td>\n",
       "      <td>Yes</td>\n",
       "      <td>Mailed check</td>\n",
       "      <td>19.70</td>\n",
       "      <td></td>\n",
       "      <td>No</td>\n",
       "    </tr>\n",
       "    <tr>\n",
       "      <th>6670</th>\n",
       "      <td>1</td>\n",
       "      <td>0</td>\n",
       "      <td>1</td>\n",
       "      <td>1</td>\n",
       "      <td>0</td>\n",
       "      <td>Yes</td>\n",
       "      <td>Yes</td>\n",
       "      <td>DSL</td>\n",
       "      <td>No</td>\n",
       "      <td>Yes</td>\n",
       "      <td>Yes</td>\n",
       "      <td>Yes</td>\n",
       "      <td>Yes</td>\n",
       "      <td>No</td>\n",
       "      <td>Two year</td>\n",
       "      <td>No</td>\n",
       "      <td>Mailed check</td>\n",
       "      <td>73.35</td>\n",
       "      <td></td>\n",
       "      <td>No</td>\n",
       "    </tr>\n",
       "    <tr>\n",
       "      <th>6754</th>\n",
       "      <td>0</td>\n",
       "      <td>0</td>\n",
       "      <td>0</td>\n",
       "      <td>1</td>\n",
       "      <td>0</td>\n",
       "      <td>Yes</td>\n",
       "      <td>Yes</td>\n",
       "      <td>DSL</td>\n",
       "      <td>Yes</td>\n",
       "      <td>Yes</td>\n",
       "      <td>No</td>\n",
       "      <td>Yes</td>\n",
       "      <td>No</td>\n",
       "      <td>No</td>\n",
       "      <td>Two year</td>\n",
       "      <td>Yes</td>\n",
       "      <td>Bank transfer (automatic)</td>\n",
       "      <td>61.90</td>\n",
       "      <td></td>\n",
       "      <td>No</td>\n",
       "    </tr>\n",
       "  </tbody>\n",
       "</table>\n",
       "</div>"
      ],
      "text/plain": [
       "      gender  SeniorCitizen  Partner  Dependents  tenure PhoneService   \n",
       "488        1              0        1           1       0           No  \\\n",
       "753        0              0        0           1       0          Yes   \n",
       "936        1              0        1           1       0          Yes   \n",
       "1082       0              0        1           1       0          Yes   \n",
       "1340       1              0        1           1       0           No   \n",
       "3331       0              0        1           1       0          Yes   \n",
       "3826       0              0        1           1       0          Yes   \n",
       "4380       1              0        1           1       0          Yes   \n",
       "5218       0              0        1           1       0          Yes   \n",
       "6670       1              0        1           1       0          Yes   \n",
       "6754       0              0        0           1       0          Yes   \n",
       "\n",
       "         MultipleLines InternetService       OnlineSecurity   \n",
       "488   No phone service             DSL                  Yes  \\\n",
       "753                 No              No  No internet service   \n",
       "936                 No             DSL                  Yes   \n",
       "1082               Yes              No  No internet service   \n",
       "1340  No phone service             DSL                  Yes   \n",
       "3331                No              No  No internet service   \n",
       "3826               Yes              No  No internet service   \n",
       "4380                No              No  No internet service   \n",
       "5218                No              No  No internet service   \n",
       "6670               Yes             DSL                   No   \n",
       "6754               Yes             DSL                  Yes   \n",
       "\n",
       "             OnlineBackup     DeviceProtection          TechSupport   \n",
       "488                    No                  Yes                  Yes  \\\n",
       "753   No internet service  No internet service  No internet service   \n",
       "936                   Yes                  Yes                   No   \n",
       "1082  No internet service  No internet service  No internet service   \n",
       "1340                  Yes                  Yes                  Yes   \n",
       "3331  No internet service  No internet service  No internet service   \n",
       "3826  No internet service  No internet service  No internet service   \n",
       "4380  No internet service  No internet service  No internet service   \n",
       "5218  No internet service  No internet service  No internet service   \n",
       "6670                  Yes                  Yes                  Yes   \n",
       "6754                  Yes                   No                  Yes   \n",
       "\n",
       "              StreamingTV      StreamingMovies  Contract PaperlessBilling   \n",
       "488                   Yes                   No  Two year              Yes  \\\n",
       "753   No internet service  No internet service  Two year               No   \n",
       "936                   Yes                  Yes  Two year               No   \n",
       "1082  No internet service  No internet service  Two year               No   \n",
       "1340                  Yes                   No  Two year               No   \n",
       "3331  No internet service  No internet service  Two year               No   \n",
       "3826  No internet service  No internet service  Two year               No   \n",
       "4380  No internet service  No internet service  Two year               No   \n",
       "5218  No internet service  No internet service  One year              Yes   \n",
       "6670                  Yes                   No  Two year               No   \n",
       "6754                   No                   No  Two year              Yes   \n",
       "\n",
       "                  PaymentMethod  MonthlyCharges TotalCharges Churn  \n",
       "488   Bank transfer (automatic)           52.55                 No  \n",
       "753                Mailed check           20.25                 No  \n",
       "936                Mailed check           80.85                 No  \n",
       "1082               Mailed check           25.75                 No  \n",
       "1340    Credit card (automatic)           56.05                 No  \n",
       "3331               Mailed check           19.85                 No  \n",
       "3826               Mailed check           25.35                 No  \n",
       "4380               Mailed check           20.00                 No  \n",
       "5218               Mailed check           19.70                 No  \n",
       "6670               Mailed check           73.35                 No  \n",
       "6754  Bank transfer (automatic)           61.90                 No  "
      ]
     },
     "execution_count": 10,
     "metadata": {},
     "output_type": "execute_result"
    }
   ],
   "source": [
    "df[pd.to_numeric(df.TotalCharges, errors = 'coerce').isnull()]"
   ]
  },
  {
   "cell_type": "code",
   "execution_count": 11,
   "id": "69206196",
   "metadata": {},
   "outputs": [
    {
     "data": {
      "text/plain": [
       "(11, 20)"
      ]
     },
     "execution_count": 11,
     "metadata": {},
     "output_type": "execute_result"
    }
   ],
   "source": [
    "df[pd.to_numeric(df.TotalCharges, errors = 'coerce').isnull()].shape"
   ]
  },
  {
   "cell_type": "raw",
   "id": "f148ddff",
   "metadata": {},
   "source": [
    "Let's Remove these 11 rows that contains  blank values"
   ]
  },
  {
   "cell_type": "code",
   "execution_count": 12,
   "id": "15aa9709",
   "metadata": {},
   "outputs": [
    {
     "data": {
      "text/plain": [
       "(7032, 20)"
      ]
     },
     "execution_count": 12,
     "metadata": {},
     "output_type": "execute_result"
    }
   ],
   "source": [
    "df = df[df.TotalCharges != \" \"]\n",
    "df.shape"
   ]
  },
  {
   "cell_type": "raw",
   "id": "d8fd734f",
   "metadata": {},
   "source": [
    "Now the scaling can be performed."
   ]
  },
  {
   "cell_type": "code",
   "execution_count": 13,
   "id": "d3fb3b4d",
   "metadata": {},
   "outputs": [],
   "source": [
    "scaler = MinMaxScaler()\n",
    "df[scaling_columns] = scaler.fit_transform(df[scaling_columns])"
   ]
  },
  {
   "cell_type": "code",
   "execution_count": 14,
   "id": "3e5bcbad",
   "metadata": {},
   "outputs": [
    {
     "name": "stdout",
     "output_type": "stream",
     "text": [
      "        tenure  MonthlyCharges  TotalCharges\n",
      "0     0.000000        0.115423      0.001275\n",
      "1     0.464789        0.385075      0.215867\n",
      "2     0.014085        0.354229      0.010310\n",
      "3     0.619718        0.239303      0.210241\n",
      "4     0.014085        0.521891      0.015330\n",
      "...        ...             ...           ...\n",
      "7038  0.323944        0.662189      0.227521\n",
      "7039  1.000000        0.845274      0.847461\n",
      "7040  0.140845        0.112935      0.037809\n",
      "7041  0.042254        0.558706      0.033210\n",
      "7042  0.915493        0.869652      0.787641\n",
      "\n",
      "[7032 rows x 3 columns]\n"
     ]
    }
   ],
   "source": [
    "print(df[scaling_columns])"
   ]
  },
  {
   "cell_type": "code",
   "execution_count": 15,
   "id": "420f9747",
   "metadata": {},
   "outputs": [
    {
     "data": {
      "text/html": [
       "<div>\n",
       "<style scoped>\n",
       "    .dataframe tbody tr th:only-of-type {\n",
       "        vertical-align: middle;\n",
       "    }\n",
       "\n",
       "    .dataframe tbody tr th {\n",
       "        vertical-align: top;\n",
       "    }\n",
       "\n",
       "    .dataframe thead th {\n",
       "        text-align: right;\n",
       "    }\n",
       "</style>\n",
       "<table border=\"1\" class=\"dataframe\">\n",
       "  <thead>\n",
       "    <tr style=\"text-align: right;\">\n",
       "      <th></th>\n",
       "      <th>gender</th>\n",
       "      <th>SeniorCitizen</th>\n",
       "      <th>Partner</th>\n",
       "      <th>Dependents</th>\n",
       "      <th>tenure</th>\n",
       "      <th>PhoneService</th>\n",
       "      <th>MultipleLines</th>\n",
       "      <th>InternetService</th>\n",
       "      <th>OnlineSecurity</th>\n",
       "      <th>OnlineBackup</th>\n",
       "      <th>DeviceProtection</th>\n",
       "      <th>TechSupport</th>\n",
       "      <th>StreamingTV</th>\n",
       "      <th>StreamingMovies</th>\n",
       "      <th>Contract</th>\n",
       "      <th>PaperlessBilling</th>\n",
       "      <th>PaymentMethod</th>\n",
       "      <th>MonthlyCharges</th>\n",
       "      <th>TotalCharges</th>\n",
       "      <th>Churn</th>\n",
       "    </tr>\n",
       "  </thead>\n",
       "  <tbody>\n",
       "    <tr>\n",
       "      <th>0</th>\n",
       "      <td>1</td>\n",
       "      <td>0</td>\n",
       "      <td>1</td>\n",
       "      <td>0</td>\n",
       "      <td>0.000000</td>\n",
       "      <td>No</td>\n",
       "      <td>No phone service</td>\n",
       "      <td>DSL</td>\n",
       "      <td>No</td>\n",
       "      <td>Yes</td>\n",
       "      <td>No</td>\n",
       "      <td>No</td>\n",
       "      <td>No</td>\n",
       "      <td>No</td>\n",
       "      <td>Month-to-month</td>\n",
       "      <td>Yes</td>\n",
       "      <td>Electronic check</td>\n",
       "      <td>0.115423</td>\n",
       "      <td>0.001275</td>\n",
       "      <td>No</td>\n",
       "    </tr>\n",
       "    <tr>\n",
       "      <th>1</th>\n",
       "      <td>0</td>\n",
       "      <td>0</td>\n",
       "      <td>0</td>\n",
       "      <td>0</td>\n",
       "      <td>0.464789</td>\n",
       "      <td>Yes</td>\n",
       "      <td>No</td>\n",
       "      <td>DSL</td>\n",
       "      <td>Yes</td>\n",
       "      <td>No</td>\n",
       "      <td>Yes</td>\n",
       "      <td>No</td>\n",
       "      <td>No</td>\n",
       "      <td>No</td>\n",
       "      <td>One year</td>\n",
       "      <td>No</td>\n",
       "      <td>Mailed check</td>\n",
       "      <td>0.385075</td>\n",
       "      <td>0.215867</td>\n",
       "      <td>No</td>\n",
       "    </tr>\n",
       "    <tr>\n",
       "      <th>2</th>\n",
       "      <td>0</td>\n",
       "      <td>0</td>\n",
       "      <td>0</td>\n",
       "      <td>0</td>\n",
       "      <td>0.014085</td>\n",
       "      <td>Yes</td>\n",
       "      <td>No</td>\n",
       "      <td>DSL</td>\n",
       "      <td>Yes</td>\n",
       "      <td>Yes</td>\n",
       "      <td>No</td>\n",
       "      <td>No</td>\n",
       "      <td>No</td>\n",
       "      <td>No</td>\n",
       "      <td>Month-to-month</td>\n",
       "      <td>Yes</td>\n",
       "      <td>Mailed check</td>\n",
       "      <td>0.354229</td>\n",
       "      <td>0.010310</td>\n",
       "      <td>Yes</td>\n",
       "    </tr>\n",
       "    <tr>\n",
       "      <th>3</th>\n",
       "      <td>0</td>\n",
       "      <td>0</td>\n",
       "      <td>0</td>\n",
       "      <td>0</td>\n",
       "      <td>0.619718</td>\n",
       "      <td>No</td>\n",
       "      <td>No phone service</td>\n",
       "      <td>DSL</td>\n",
       "      <td>Yes</td>\n",
       "      <td>No</td>\n",
       "      <td>Yes</td>\n",
       "      <td>Yes</td>\n",
       "      <td>No</td>\n",
       "      <td>No</td>\n",
       "      <td>One year</td>\n",
       "      <td>No</td>\n",
       "      <td>Bank transfer (automatic)</td>\n",
       "      <td>0.239303</td>\n",
       "      <td>0.210241</td>\n",
       "      <td>No</td>\n",
       "    </tr>\n",
       "    <tr>\n",
       "      <th>4</th>\n",
       "      <td>1</td>\n",
       "      <td>0</td>\n",
       "      <td>0</td>\n",
       "      <td>0</td>\n",
       "      <td>0.014085</td>\n",
       "      <td>Yes</td>\n",
       "      <td>No</td>\n",
       "      <td>Fiber optic</td>\n",
       "      <td>No</td>\n",
       "      <td>No</td>\n",
       "      <td>No</td>\n",
       "      <td>No</td>\n",
       "      <td>No</td>\n",
       "      <td>No</td>\n",
       "      <td>Month-to-month</td>\n",
       "      <td>Yes</td>\n",
       "      <td>Electronic check</td>\n",
       "      <td>0.521891</td>\n",
       "      <td>0.015330</td>\n",
       "      <td>Yes</td>\n",
       "    </tr>\n",
       "  </tbody>\n",
       "</table>\n",
       "</div>"
      ],
      "text/plain": [
       "   gender  SeniorCitizen  Partner  Dependents    tenure PhoneService   \n",
       "0       1              0        1           0  0.000000           No  \\\n",
       "1       0              0        0           0  0.464789          Yes   \n",
       "2       0              0        0           0  0.014085          Yes   \n",
       "3       0              0        0           0  0.619718           No   \n",
       "4       1              0        0           0  0.014085          Yes   \n",
       "\n",
       "      MultipleLines InternetService OnlineSecurity OnlineBackup   \n",
       "0  No phone service             DSL             No          Yes  \\\n",
       "1                No             DSL            Yes           No   \n",
       "2                No             DSL            Yes          Yes   \n",
       "3  No phone service             DSL            Yes           No   \n",
       "4                No     Fiber optic             No           No   \n",
       "\n",
       "  DeviceProtection TechSupport StreamingTV StreamingMovies        Contract   \n",
       "0               No          No          No              No  Month-to-month  \\\n",
       "1              Yes          No          No              No        One year   \n",
       "2               No          No          No              No  Month-to-month   \n",
       "3              Yes         Yes          No              No        One year   \n",
       "4               No          No          No              No  Month-to-month   \n",
       "\n",
       "  PaperlessBilling              PaymentMethod  MonthlyCharges  TotalCharges   \n",
       "0              Yes           Electronic check        0.115423      0.001275  \\\n",
       "1               No               Mailed check        0.385075      0.215867   \n",
       "2              Yes               Mailed check        0.354229      0.010310   \n",
       "3               No  Bank transfer (automatic)        0.239303      0.210241   \n",
       "4              Yes           Electronic check        0.521891      0.015330   \n",
       "\n",
       "  Churn  \n",
       "0    No  \n",
       "1    No  \n",
       "2   Yes  \n",
       "3    No  \n",
       "4   Yes  "
      ]
     },
     "execution_count": 15,
     "metadata": {},
     "output_type": "execute_result"
    }
   ],
   "source": [
    "df.head()"
   ]
  },
  {
   "cell_type": "code",
   "execution_count": 16,
   "id": "0283159f",
   "metadata": {},
   "outputs": [
    {
     "data": {
      "text/plain": [
       "array(['No', 'Yes'], dtype=object)"
      ]
     },
     "execution_count": 16,
     "metadata": {},
     "output_type": "execute_result"
    }
   ],
   "source": [
    "df.PhoneService.unique()"
   ]
  },
  {
   "cell_type": "code",
   "execution_count": 17,
   "id": "22bcdd08",
   "metadata": {},
   "outputs": [],
   "source": [
    "df['PhoneService'].replace({'Yes':1 , 'No': 0},inplace=True)\n"
   ]
  },
  {
   "cell_type": "raw",
   "id": "c45a82a1",
   "metadata": {},
   "source": [
    "Displaying the categorial values with their unique categories"
   ]
  },
  {
   "cell_type": "code",
   "execution_count": 18,
   "id": "b77bfa29",
   "metadata": {},
   "outputs": [
    {
     "name": "stdout",
     "output_type": "stream",
     "text": [
      "MultipleLines:['No phone service' 'No' 'Yes']\n",
      "InternetService:['DSL' 'Fiber optic' 'No']\n",
      "OnlineSecurity:['No' 'Yes' 'No internet service']\n",
      "OnlineBackup:['Yes' 'No' 'No internet service']\n",
      "DeviceProtection:['No' 'Yes' 'No internet service']\n",
      "TechSupport:['No' 'Yes' 'No internet service']\n",
      "StreamingTV:['No' 'Yes' 'No internet service']\n",
      "StreamingMovies:['No' 'Yes' 'No internet service']\n",
      "Contract:['Month-to-month' 'One year' 'Two year']\n",
      "PaperlessBilling:['Yes' 'No']\n",
      "PaymentMethod:['Electronic check' 'Mailed check' 'Bank transfer (automatic)'\n",
      " 'Credit card (automatic)']\n",
      "Churn:['No' 'Yes']\n"
     ]
    }
   ],
   "source": [
    "for columns in df:\n",
    "    if df[columns].dtype == 'object':\n",
    "        print(f'{columns}:{df[columns].unique()}')"
   ]
  },
  {
   "cell_type": "code",
   "execution_count": 19,
   "id": "4219ca6c",
   "metadata": {},
   "outputs": [],
   "source": [
    "df.replace('No internet service','No',inplace=True)\n",
    "df.replace('No phone service','No',inplace=True)\n",
    "\n",
    "yes_no_columns = ['PhoneService','MultipleLines','OnlineSecurity','OnlineBackup',\n",
    "                  'DeviceProtection','TechSupport','StreamingTV','StreamingMovies','PaperlessBilling','Churn']\n",
    "for col in yes_no_columns:\n",
    "    df[col].replace({'Yes': 1,'No': 0},inplace=True)"
   ]
  },
  {
   "cell_type": "code",
   "execution_count": 20,
   "id": "2e10354d",
   "metadata": {},
   "outputs": [
    {
     "name": "stdout",
     "output_type": "stream",
     "text": [
      "<class 'pandas.core.frame.DataFrame'>\n",
      "Index: 7032 entries, 0 to 7042\n",
      "Data columns (total 20 columns):\n",
      " #   Column            Non-Null Count  Dtype  \n",
      "---  ------            --------------  -----  \n",
      " 0   gender            7032 non-null   int64  \n",
      " 1   SeniorCitizen     7032 non-null   int64  \n",
      " 2   Partner           7032 non-null   int64  \n",
      " 3   Dependents        7032 non-null   int64  \n",
      " 4   tenure            7032 non-null   float64\n",
      " 5   PhoneService      7032 non-null   int64  \n",
      " 6   MultipleLines     7032 non-null   int64  \n",
      " 7   InternetService   7032 non-null   object \n",
      " 8   OnlineSecurity    7032 non-null   int64  \n",
      " 9   OnlineBackup      7032 non-null   int64  \n",
      " 10  DeviceProtection  7032 non-null   int64  \n",
      " 11  TechSupport       7032 non-null   int64  \n",
      " 12  StreamingTV       7032 non-null   int64  \n",
      " 13  StreamingMovies   7032 non-null   int64  \n",
      " 14  Contract          7032 non-null   object \n",
      " 15  PaperlessBilling  7032 non-null   int64  \n",
      " 16  PaymentMethod     7032 non-null   object \n",
      " 17  MonthlyCharges    7032 non-null   float64\n",
      " 18  TotalCharges      7032 non-null   float64\n",
      " 19  Churn             7032 non-null   int64  \n",
      "dtypes: float64(3), int64(14), object(3)\n",
      "memory usage: 1.1+ MB\n"
     ]
    }
   ],
   "source": [
    "df.info()"
   ]
  },
  {
   "cell_type": "raw",
   "id": "70f5a9a2",
   "metadata": {},
   "source": [
    "One Hot encoding for categorial values"
   ]
  },
  {
   "cell_type": "code",
   "execution_count": 21,
   "id": "d4de2d0b",
   "metadata": {},
   "outputs": [
    {
     "data": {
      "text/plain": [
       "Index(['gender', 'SeniorCitizen', 'Partner', 'Dependents', 'tenure',\n",
       "       'PhoneService', 'MultipleLines', 'OnlineSecurity', 'OnlineBackup',\n",
       "       'DeviceProtection', 'TechSupport', 'StreamingTV', 'StreamingMovies',\n",
       "       'PaperlessBilling', 'MonthlyCharges', 'TotalCharges', 'Churn',\n",
       "       'InternetService_DSL', 'InternetService_Fiber optic',\n",
       "       'InternetService_No', 'Contract_Month-to-month', 'Contract_One year',\n",
       "       'Contract_Two year', 'PaymentMethod_Bank transfer (automatic)',\n",
       "       'PaymentMethod_Credit card (automatic)',\n",
       "       'PaymentMethod_Electronic check', 'PaymentMethod_Mailed check'],\n",
       "      dtype='object')"
      ]
     },
     "execution_count": 21,
     "metadata": {},
     "output_type": "execute_result"
    }
   ],
   "source": [
    "df = pd.get_dummies(data=df,columns=['InternetService','Contract','PaymentMethod'])\n",
    "df.columns"
   ]
  },
  {
   "cell_type": "code",
   "execution_count": 22,
   "id": "49aac330",
   "metadata": {},
   "outputs": [
    {
     "data": {
      "text/plain": [
       "(7032, 27)"
      ]
     },
     "execution_count": 22,
     "metadata": {},
     "output_type": "execute_result"
    }
   ],
   "source": [
    "df.shape"
   ]
  },
  {
   "cell_type": "code",
   "execution_count": 23,
   "id": "21a9bd48",
   "metadata": {},
   "outputs": [
    {
     "name": "stdout",
     "output_type": "stream",
     "text": [
      "<class 'pandas.core.frame.DataFrame'>\n",
      "Index: 7032 entries, 0 to 7042\n",
      "Data columns (total 27 columns):\n",
      " #   Column                                   Non-Null Count  Dtype  \n",
      "---  ------                                   --------------  -----  \n",
      " 0   gender                                   7032 non-null   int64  \n",
      " 1   SeniorCitizen                            7032 non-null   int64  \n",
      " 2   Partner                                  7032 non-null   int64  \n",
      " 3   Dependents                               7032 non-null   int64  \n",
      " 4   tenure                                   7032 non-null   float64\n",
      " 5   PhoneService                             7032 non-null   int64  \n",
      " 6   MultipleLines                            7032 non-null   int64  \n",
      " 7   OnlineSecurity                           7032 non-null   int64  \n",
      " 8   OnlineBackup                             7032 non-null   int64  \n",
      " 9   DeviceProtection                         7032 non-null   int64  \n",
      " 10  TechSupport                              7032 non-null   int64  \n",
      " 11  StreamingTV                              7032 non-null   int64  \n",
      " 12  StreamingMovies                          7032 non-null   int64  \n",
      " 13  PaperlessBilling                         7032 non-null   int64  \n",
      " 14  MonthlyCharges                           7032 non-null   float64\n",
      " 15  TotalCharges                             7032 non-null   float64\n",
      " 16  Churn                                    7032 non-null   int64  \n",
      " 17  InternetService_DSL                      7032 non-null   bool   \n",
      " 18  InternetService_Fiber optic              7032 non-null   bool   \n",
      " 19  InternetService_No                       7032 non-null   bool   \n",
      " 20  Contract_Month-to-month                  7032 non-null   bool   \n",
      " 21  Contract_One year                        7032 non-null   bool   \n",
      " 22  Contract_Two year                        7032 non-null   bool   \n",
      " 23  PaymentMethod_Bank transfer (automatic)  7032 non-null   bool   \n",
      " 24  PaymentMethod_Credit card (automatic)    7032 non-null   bool   \n",
      " 25  PaymentMethod_Electronic check           7032 non-null   bool   \n",
      " 26  PaymentMethod_Mailed check               7032 non-null   bool   \n",
      "dtypes: bool(10), float64(3), int64(14)\n",
      "memory usage: 1.0 MB\n"
     ]
    }
   ],
   "source": [
    "df.info()"
   ]
  },
  {
   "cell_type": "raw",
   "id": "6d5a4065",
   "metadata": {},
   "source": [
    "Looking for the description of data"
   ]
  },
  {
   "cell_type": "code",
   "execution_count": 24,
   "id": "89482b85",
   "metadata": {},
   "outputs": [
    {
     "data": {
      "text/html": [
       "<div>\n",
       "<style scoped>\n",
       "    .dataframe tbody tr th:only-of-type {\n",
       "        vertical-align: middle;\n",
       "    }\n",
       "\n",
       "    .dataframe tbody tr th {\n",
       "        vertical-align: top;\n",
       "    }\n",
       "\n",
       "    .dataframe thead th {\n",
       "        text-align: right;\n",
       "    }\n",
       "</style>\n",
       "<table border=\"1\" class=\"dataframe\">\n",
       "  <thead>\n",
       "    <tr style=\"text-align: right;\">\n",
       "      <th></th>\n",
       "      <th>gender</th>\n",
       "      <th>SeniorCitizen</th>\n",
       "      <th>Partner</th>\n",
       "      <th>Dependents</th>\n",
       "      <th>tenure</th>\n",
       "      <th>PhoneService</th>\n",
       "      <th>MultipleLines</th>\n",
       "      <th>OnlineSecurity</th>\n",
       "      <th>OnlineBackup</th>\n",
       "      <th>DeviceProtection</th>\n",
       "      <th>TechSupport</th>\n",
       "      <th>StreamingTV</th>\n",
       "      <th>StreamingMovies</th>\n",
       "      <th>PaperlessBilling</th>\n",
       "      <th>MonthlyCharges</th>\n",
       "      <th>TotalCharges</th>\n",
       "      <th>Churn</th>\n",
       "    </tr>\n",
       "  </thead>\n",
       "  <tbody>\n",
       "    <tr>\n",
       "      <th>count</th>\n",
       "      <td>7032.000000</td>\n",
       "      <td>7032.000000</td>\n",
       "      <td>7032.000000</td>\n",
       "      <td>7032.000000</td>\n",
       "      <td>7032.000000</td>\n",
       "      <td>7032.000000</td>\n",
       "      <td>7032.000000</td>\n",
       "      <td>7032.000000</td>\n",
       "      <td>7032.000000</td>\n",
       "      <td>7032.000000</td>\n",
       "      <td>7032.000000</td>\n",
       "      <td>7032.000000</td>\n",
       "      <td>7032.000000</td>\n",
       "      <td>7032.000000</td>\n",
       "      <td>7032.000000</td>\n",
       "      <td>7032.000000</td>\n",
       "      <td>7032.000000</td>\n",
       "    </tr>\n",
       "    <tr>\n",
       "      <th>mean</th>\n",
       "      <td>0.495307</td>\n",
       "      <td>0.162400</td>\n",
       "      <td>0.482509</td>\n",
       "      <td>0.298493</td>\n",
       "      <td>0.442560</td>\n",
       "      <td>0.903299</td>\n",
       "      <td>0.421928</td>\n",
       "      <td>0.286547</td>\n",
       "      <td>0.344852</td>\n",
       "      <td>0.343857</td>\n",
       "      <td>0.290102</td>\n",
       "      <td>0.384386</td>\n",
       "      <td>0.388367</td>\n",
       "      <td>0.592719</td>\n",
       "      <td>0.463166</td>\n",
       "      <td>0.261309</td>\n",
       "      <td>0.265785</td>\n",
       "    </tr>\n",
       "    <tr>\n",
       "      <th>std</th>\n",
       "      <td>0.500014</td>\n",
       "      <td>0.368844</td>\n",
       "      <td>0.499729</td>\n",
       "      <td>0.457629</td>\n",
       "      <td>0.345708</td>\n",
       "      <td>0.295571</td>\n",
       "      <td>0.493902</td>\n",
       "      <td>0.452180</td>\n",
       "      <td>0.475354</td>\n",
       "      <td>0.475028</td>\n",
       "      <td>0.453842</td>\n",
       "      <td>0.486484</td>\n",
       "      <td>0.487414</td>\n",
       "      <td>0.491363</td>\n",
       "      <td>0.299363</td>\n",
       "      <td>0.261571</td>\n",
       "      <td>0.441782</td>\n",
       "    </tr>\n",
       "    <tr>\n",
       "      <th>min</th>\n",
       "      <td>0.000000</td>\n",
       "      <td>0.000000</td>\n",
       "      <td>0.000000</td>\n",
       "      <td>0.000000</td>\n",
       "      <td>0.000000</td>\n",
       "      <td>0.000000</td>\n",
       "      <td>0.000000</td>\n",
       "      <td>0.000000</td>\n",
       "      <td>0.000000</td>\n",
       "      <td>0.000000</td>\n",
       "      <td>0.000000</td>\n",
       "      <td>0.000000</td>\n",
       "      <td>0.000000</td>\n",
       "      <td>0.000000</td>\n",
       "      <td>0.000000</td>\n",
       "      <td>0.000000</td>\n",
       "      <td>0.000000</td>\n",
       "    </tr>\n",
       "    <tr>\n",
       "      <th>25%</th>\n",
       "      <td>0.000000</td>\n",
       "      <td>0.000000</td>\n",
       "      <td>0.000000</td>\n",
       "      <td>0.000000</td>\n",
       "      <td>0.112676</td>\n",
       "      <td>1.000000</td>\n",
       "      <td>0.000000</td>\n",
       "      <td>0.000000</td>\n",
       "      <td>0.000000</td>\n",
       "      <td>0.000000</td>\n",
       "      <td>0.000000</td>\n",
       "      <td>0.000000</td>\n",
       "      <td>0.000000</td>\n",
       "      <td>0.000000</td>\n",
       "      <td>0.172512</td>\n",
       "      <td>0.044155</td>\n",
       "      <td>0.000000</td>\n",
       "    </tr>\n",
       "    <tr>\n",
       "      <th>50%</th>\n",
       "      <td>0.000000</td>\n",
       "      <td>0.000000</td>\n",
       "      <td>0.000000</td>\n",
       "      <td>0.000000</td>\n",
       "      <td>0.394366</td>\n",
       "      <td>1.000000</td>\n",
       "      <td>0.000000</td>\n",
       "      <td>0.000000</td>\n",
       "      <td>0.000000</td>\n",
       "      <td>0.000000</td>\n",
       "      <td>0.000000</td>\n",
       "      <td>0.000000</td>\n",
       "      <td>0.000000</td>\n",
       "      <td>1.000000</td>\n",
       "      <td>0.518408</td>\n",
       "      <td>0.159090</td>\n",
       "      <td>0.000000</td>\n",
       "    </tr>\n",
       "    <tr>\n",
       "      <th>75%</th>\n",
       "      <td>1.000000</td>\n",
       "      <td>0.000000</td>\n",
       "      <td>1.000000</td>\n",
       "      <td>1.000000</td>\n",
       "      <td>0.760563</td>\n",
       "      <td>1.000000</td>\n",
       "      <td>1.000000</td>\n",
       "      <td>1.000000</td>\n",
       "      <td>1.000000</td>\n",
       "      <td>1.000000</td>\n",
       "      <td>1.000000</td>\n",
       "      <td>1.000000</td>\n",
       "      <td>1.000000</td>\n",
       "      <td>1.000000</td>\n",
       "      <td>0.712562</td>\n",
       "      <td>0.435719</td>\n",
       "      <td>1.000000</td>\n",
       "    </tr>\n",
       "    <tr>\n",
       "      <th>max</th>\n",
       "      <td>1.000000</td>\n",
       "      <td>1.000000</td>\n",
       "      <td>1.000000</td>\n",
       "      <td>1.000000</td>\n",
       "      <td>1.000000</td>\n",
       "      <td>1.000000</td>\n",
       "      <td>1.000000</td>\n",
       "      <td>1.000000</td>\n",
       "      <td>1.000000</td>\n",
       "      <td>1.000000</td>\n",
       "      <td>1.000000</td>\n",
       "      <td>1.000000</td>\n",
       "      <td>1.000000</td>\n",
       "      <td>1.000000</td>\n",
       "      <td>1.000000</td>\n",
       "      <td>1.000000</td>\n",
       "      <td>1.000000</td>\n",
       "    </tr>\n",
       "  </tbody>\n",
       "</table>\n",
       "</div>"
      ],
      "text/plain": [
       "            gender  SeniorCitizen      Partner   Dependents       tenure   \n",
       "count  7032.000000    7032.000000  7032.000000  7032.000000  7032.000000  \\\n",
       "mean      0.495307       0.162400     0.482509     0.298493     0.442560   \n",
       "std       0.500014       0.368844     0.499729     0.457629     0.345708   \n",
       "min       0.000000       0.000000     0.000000     0.000000     0.000000   \n",
       "25%       0.000000       0.000000     0.000000     0.000000     0.112676   \n",
       "50%       0.000000       0.000000     0.000000     0.000000     0.394366   \n",
       "75%       1.000000       0.000000     1.000000     1.000000     0.760563   \n",
       "max       1.000000       1.000000     1.000000     1.000000     1.000000   \n",
       "\n",
       "       PhoneService  MultipleLines  OnlineSecurity  OnlineBackup   \n",
       "count   7032.000000    7032.000000     7032.000000   7032.000000  \\\n",
       "mean       0.903299       0.421928        0.286547      0.344852   \n",
       "std        0.295571       0.493902        0.452180      0.475354   \n",
       "min        0.000000       0.000000        0.000000      0.000000   \n",
       "25%        1.000000       0.000000        0.000000      0.000000   \n",
       "50%        1.000000       0.000000        0.000000      0.000000   \n",
       "75%        1.000000       1.000000        1.000000      1.000000   \n",
       "max        1.000000       1.000000        1.000000      1.000000   \n",
       "\n",
       "       DeviceProtection  TechSupport  StreamingTV  StreamingMovies   \n",
       "count       7032.000000  7032.000000  7032.000000      7032.000000  \\\n",
       "mean           0.343857     0.290102     0.384386         0.388367   \n",
       "std            0.475028     0.453842     0.486484         0.487414   \n",
       "min            0.000000     0.000000     0.000000         0.000000   \n",
       "25%            0.000000     0.000000     0.000000         0.000000   \n",
       "50%            0.000000     0.000000     0.000000         0.000000   \n",
       "75%            1.000000     1.000000     1.000000         1.000000   \n",
       "max            1.000000     1.000000     1.000000         1.000000   \n",
       "\n",
       "       PaperlessBilling  MonthlyCharges  TotalCharges        Churn  \n",
       "count       7032.000000     7032.000000   7032.000000  7032.000000  \n",
       "mean           0.592719        0.463166      0.261309     0.265785  \n",
       "std            0.491363        0.299363      0.261571     0.441782  \n",
       "min            0.000000        0.000000      0.000000     0.000000  \n",
       "25%            0.000000        0.172512      0.044155     0.000000  \n",
       "50%            1.000000        0.518408      0.159090     0.000000  \n",
       "75%            1.000000        0.712562      0.435719     1.000000  \n",
       "max            1.000000        1.000000      1.000000     1.000000  "
      ]
     },
     "execution_count": 24,
     "metadata": {},
     "output_type": "execute_result"
    }
   ],
   "source": [
    "df.describe()"
   ]
  },
  {
   "cell_type": "raw",
   "id": "0c62eca8",
   "metadata": {},
   "source": [
    "Converting all the boolean values to integer"
   ]
  },
  {
   "cell_type": "code",
   "execution_count": 25,
   "id": "a352a55f",
   "metadata": {},
   "outputs": [],
   "source": [
    "for column in df.columns:\n",
    "    if df[column].dtype == 'bool':\n",
    "        df[column] = df[column].astype(int)\n"
   ]
  },
  {
   "cell_type": "code",
   "execution_count": 26,
   "id": "99b1dc37",
   "metadata": {},
   "outputs": [
    {
     "name": "stdout",
     "output_type": "stream",
     "text": [
      "<class 'pandas.core.frame.DataFrame'>\n",
      "Index: 7032 entries, 0 to 7042\n",
      "Data columns (total 27 columns):\n",
      " #   Column                                   Non-Null Count  Dtype  \n",
      "---  ------                                   --------------  -----  \n",
      " 0   gender                                   7032 non-null   int64  \n",
      " 1   SeniorCitizen                            7032 non-null   int64  \n",
      " 2   Partner                                  7032 non-null   int64  \n",
      " 3   Dependents                               7032 non-null   int64  \n",
      " 4   tenure                                   7032 non-null   float64\n",
      " 5   PhoneService                             7032 non-null   int64  \n",
      " 6   MultipleLines                            7032 non-null   int64  \n",
      " 7   OnlineSecurity                           7032 non-null   int64  \n",
      " 8   OnlineBackup                             7032 non-null   int64  \n",
      " 9   DeviceProtection                         7032 non-null   int64  \n",
      " 10  TechSupport                              7032 non-null   int64  \n",
      " 11  StreamingTV                              7032 non-null   int64  \n",
      " 12  StreamingMovies                          7032 non-null   int64  \n",
      " 13  PaperlessBilling                         7032 non-null   int64  \n",
      " 14  MonthlyCharges                           7032 non-null   float64\n",
      " 15  TotalCharges                             7032 non-null   float64\n",
      " 16  Churn                                    7032 non-null   int64  \n",
      " 17  InternetService_DSL                      7032 non-null   int32  \n",
      " 18  InternetService_Fiber optic              7032 non-null   int32  \n",
      " 19  InternetService_No                       7032 non-null   int32  \n",
      " 20  Contract_Month-to-month                  7032 non-null   int32  \n",
      " 21  Contract_One year                        7032 non-null   int32  \n",
      " 22  Contract_Two year                        7032 non-null   int32  \n",
      " 23  PaymentMethod_Bank transfer (automatic)  7032 non-null   int32  \n",
      " 24  PaymentMethod_Credit card (automatic)    7032 non-null   int32  \n",
      " 25  PaymentMethod_Electronic check           7032 non-null   int32  \n",
      " 26  PaymentMethod_Mailed check               7032 non-null   int32  \n",
      "dtypes: float64(3), int32(10), int64(14)\n",
      "memory usage: 1.2 MB\n"
     ]
    }
   ],
   "source": [
    "df.info()"
   ]
  },
  {
   "cell_type": "raw",
   "id": "804be421",
   "metadata": {},
   "source": [
    "Now, the data is cleaned and ready for further operations."
   ]
  },
  {
   "cell_type": "raw",
   "id": "29f315c8",
   "metadata": {},
   "source": [
    "Counting the data of  target column. "
   ]
  },
  {
   "cell_type": "code",
   "execution_count": 27,
   "id": "9f9d77f7",
   "metadata": {},
   "outputs": [
    {
     "data": {
      "text/plain": [
       "Churn\n",
       "0    5163\n",
       "1    1869\n",
       "Name: count, dtype: int64"
      ]
     },
     "execution_count": 27,
     "metadata": {},
     "output_type": "execute_result"
    }
   ],
   "source": [
    "df['Churn'].value_counts()"
   ]
  },
  {
   "cell_type": "raw",
   "id": "d6d3ed30",
   "metadata": {},
   "source": [
    "We found the unchurned customers are way more than churned. So, this is imbalanced dataset."
   ]
  },
  {
   "cell_type": "markdown",
   "id": "f9bdaf21",
   "metadata": {},
   "source": [
    "# Data visualization and Exploratory Data Analysis (EDA)"
   ]
  },
  {
   "cell_type": "raw",
   "id": "97d20e1f",
   "metadata": {},
   "source": [
    "Box-Plot:"
   ]
  },
  {
   "cell_type": "code",
   "execution_count": 28,
   "id": "e9c8f634",
   "metadata": {},
   "outputs": [
    {
     "data": {
      "image/png": "[encoded data removed]",
      "text/plain": [
       "<Figure size 1200x400 with 1 Axes>"
      ]
     },
     "metadata": {},
     "output_type": "display_data"
    }
   ],
   "source": [
    "df.boxplot(figsize=(12, 4),color = 'Blue')\n",
    "plt.xticks(rotation=90)\n",
    "plt.show()"
   ]
  },
  {
   "cell_type": "raw",
   "id": "cd51a30f",
   "metadata": {},
   "source": [
    "Analyzing the correlation between the dimensions"
   ]
  },
  {
   "cell_type": "code",
   "execution_count": 50,
   "id": "48bd8582",
   "metadata": {},
   "outputs": [
    {
     "data": {
      "image/png": "[encoded data removed]",
      "text/plain": [
       "<Figure size 1200x900 with 2 Axes>"
      ]
     },
     "metadata": {},
     "output_type": "display_data"
    }
   ],
   "source": [
    "\n",
    "correlation = df.corr()\n",
    "# Generating a heatmap plot of the correlation matrix for the label-encoded dataset\n",
    "# correlation = df.corr()\n",
    "corr_mat=df.corr().round(2)\n",
    "plt.figure(figsize=(12,9))\n",
    "sns.heatmap(corr_mat,annot=True,cmap='viridis')\n",
    "plt.show()\n"
   ]
  },
  {
   "cell_type": "raw",
   "id": "85c41349",
   "metadata": {},
   "source": [
    "Displaying the correlation value of Churn with other dimensions."
   ]
  },
  {
   "cell_type": "code",
   "execution_count": 30,
   "id": "55d24cd7",
   "metadata": {
    "scrolled": true
   },
   "outputs": [
    {
     "data": {
      "text/plain": [
       "gender                                     0.008545\n",
       "SeniorCitizen                              0.150541\n",
       "Partner                                   -0.149982\n",
       "Dependents                                -0.163128\n",
       "tenure                                    -0.354049\n",
       "PhoneService                               0.011691\n",
       "MultipleLines                              0.040033\n",
       "OnlineSecurity                            -0.171270\n",
       "OnlineBackup                              -0.082307\n",
       "DeviceProtection                          -0.066193\n",
       "TechSupport                               -0.164716\n",
       "StreamingTV                                0.063254\n",
       "StreamingMovies                            0.060860\n",
       "PaperlessBilling                           0.191454\n",
       "MonthlyCharges                             0.192858\n",
       "TotalCharges                              -0.199484\n",
       "Churn                                      1.000000\n",
       "InternetService_DSL                       -0.124141\n",
       "InternetService_Fiber optic                0.307463\n",
       "InternetService_No                        -0.227578\n",
       "Contract_Month-to-month                    0.404565\n",
       "Contract_One year                         -0.178225\n",
       "Contract_Two year                         -0.301552\n",
       "PaymentMethod_Bank transfer (automatic)   -0.118136\n",
       "PaymentMethod_Credit card (automatic)     -0.134687\n",
       "PaymentMethod_Electronic check             0.301455\n",
       "PaymentMethod_Mailed check                -0.090773\n",
       "Name: Churn, dtype: float64"
      ]
     },
     "execution_count": 30,
     "metadata": {},
     "output_type": "execute_result"
    }
   ],
   "source": [
    "correlation['Churn']"
   ]
  },
  {
   "cell_type": "raw",
   "id": "de784c0e",
   "metadata": {},
   "source": [
    "Dropping the less-correlated features"
   ]
  },
  {
   "cell_type": "code",
   "execution_count": 31,
   "id": "730d8522",
   "metadata": {},
   "outputs": [],
   "source": [
    "df.drop('gender',axis=1,inplace=True)\n",
    "df.drop('PhoneService',axis=1,inplace=True)\n",
    "df.drop('MultipleLines',axis=1,inplace=True)\n",
    "df.drop('OnlineBackup',axis=1,inplace=True)\n",
    "df.drop('DeviceProtection',axis=1,inplace=True)\n",
    "df.drop('StreamingTV',axis=1,inplace=True)\n",
    "df.drop('StreamingMovies',axis=1,inplace=True)\n",
    "\n",
    "\n"
   ]
  },
  {
   "cell_type": "raw",
   "id": "61f7e61c",
   "metadata": {},
   "source": [
    " Plotting tenure column with count"
   ]
  },
  {
   "cell_type": "code",
   "execution_count": 32,
   "id": "c53b8ea6",
   "metadata": {},
   "outputs": [
    {
     "data": {
      "text/plain": [
       "<Figure size 2000x800 with 0 Axes>"
      ]
     },
     "metadata": {},
     "output_type": "display_data"
    },
    {
     "data": {
      "image/png": "[encoded data removed]",
      "text/plain": [
       "<Figure size 500x500 with 1 Axes>"
      ]
     },
     "metadata": {},
     "output_type": "display_data"
    }
   ],
   "source": [
    "import seaborn as sns\n",
    "\n",
    "plt.figure(figsize=(20, 8))\n",
    "sns.displot(df.tenure, color='red')\n",
    "plt.show()"
   ]
  },
  {
   "cell_type": "raw",
   "id": "f60ac6f1",
   "metadata": {},
   "source": [
    " Plotting monthly charges column with count"
   ]
  },
  {
   "cell_type": "code",
   "execution_count": 47,
   "id": "979ae75a",
   "metadata": {},
   "outputs": [
    {
     "data": {
      "text/plain": [
       "<Figure size 2000x800 with 0 Axes>"
      ]
     },
     "metadata": {},
     "output_type": "display_data"
    },
    {
     "data": {
      "image/png": "[encoded data removed]",
      "text/plain": [
       "<Figure size 500x500 with 1 Axes>"
      ]
     },
     "metadata": {},
     "output_type": "display_data"
    }
   ],
   "source": [
    "\n",
    "plt.figure(figsize=(20, 8))\n",
    "sns.displot(df.MonthlyCharges, color='red')\n",
    "plt.show()"
   ]
  },
  {
   "cell_type": "raw",
   "id": "c86dde31",
   "metadata": {},
   "source": [
    "Plotting total charges column with count"
   ]
  },
  {
   "cell_type": "code",
   "execution_count": 48,
   "id": "fa19a435",
   "metadata": {},
   "outputs": [
    {
     "data": {
      "text/plain": [
       "<Figure size 2000x800 with 0 Axes>"
      ]
     },
     "metadata": {},
     "output_type": "display_data"
    },
    {
     "data": {
      "image/png": "[encoded data removed]",
      "text/plain": [
       "<Figure size 500x500 with 1 Axes>"
      ]
     },
     "metadata": {},
     "output_type": "display_data"
    }
   ],
   "source": [
    "\n",
    "plt.figure(figsize=(20, 8))\n",
    "sns.displot(df.TotalCharges, color='red')\n",
    "plt.show()"
   ]
  },
  {
   "cell_type": "raw",
   "id": "578f24c1",
   "metadata": {},
   "source": [
    "Relation between PaymentMethod and Churn\n"
   ]
  },
  {
   "cell_type": "code",
   "execution_count": 33,
   "id": "2c67c9b0",
   "metadata": {},
   "outputs": [
    {
     "data": {
      "image/png": "[encoded data removed]",
      "text/plain": [
       "<Figure size 800x400 with 1 Axes>"
      ]
     },
     "metadata": {},
     "output_type": "display_data"
    }
   ],
   "source": [
    "plt.figure(figsize=(8,4))\n",
    "sns.countplot(data=df,x='PaymentMethod_Bank transfer (automatic)', hue='Churn')\n",
    "plt.show()"
   ]
  },
  {
   "cell_type": "raw",
   "id": "e1c1bd69",
   "metadata": {},
   "source": [
    "We found that, If the customer doesn't get PaymentMethod_Bank transfer (automatic), then there's high chance of customer leaving for the services."
   ]
  },
  {
   "cell_type": "raw",
   "id": "53c8586b",
   "metadata": {},
   "source": [
    "Relation between PaymentMethod(Mailed_Check) and Churn:"
   ]
  },
  {
   "cell_type": "code",
   "execution_count": 38,
   "id": "f4446ebb",
   "metadata": {},
   "outputs": [
    {
     "data": {
      "text/plain": [
       "<Figure size 800x400 with 0 Axes>"
      ]
     },
     "metadata": {},
     "output_type": "display_data"
    },
    {
     "data": {
      "text/plain": [
       "<Figure size 800x400 with 0 Axes>"
      ]
     },
     "metadata": {},
     "output_type": "display_data"
    },
    {
     "data": {
      "text/plain": [
       "<Figure size 800x400 with 0 Axes>"
      ]
     },
     "metadata": {},
     "output_type": "display_data"
    },
    {
     "data": {
      "text/plain": [
       "<Figure size 800x400 with 0 Axes>"
      ]
     },
     "metadata": {},
     "output_type": "display_data"
    },
    {
     "data": {
      "image/png": "[encoded data removed]",
      "text/plain": [
       "<Figure size 800x400 with 1 Axes>"
      ]
     },
     "metadata": {},
     "output_type": "display_data"
    }
   ],
   "source": [
    "plt.figure(figsize=(8,4))\n",
    "sns.countplot(data=df, x='PaymentMethod_Mailed check', hue='Churn')\n",
    "plt.show()\n"
   ]
  },
  {
   "cell_type": "raw",
   "id": "cc9bc8cb",
   "metadata": {},
   "source": [
    "Relation between PaymentMethod Electronic check and Churn:"
   ]
  },
  {
   "cell_type": "code",
   "execution_count": 39,
   "id": "450388da",
   "metadata": {},
   "outputs": [
    {
     "data": {
      "image/png": "[encoded data removed]",
      "text/plain": [
       "<Figure size 800x400 with 1 Axes>"
      ]
     },
     "metadata": {},
     "output_type": "display_data"
    }
   ],
   "source": [
    "plt.figure(figsize=(8,4))\n",
    "sns.countplot(data=df,x='PaymentMethod_Electronic check', hue='Churn')\n",
    "plt.show()"
   ]
  },
  {
   "cell_type": "markdown",
   "id": "b1a40225",
   "metadata": {},
   "source": [
    "# Model Training"
   ]
  },
  {
   "cell_type": "raw",
   "id": "37c09129",
   "metadata": {},
   "source": [
    " Train Test Split of the data:"
   ]
  },
  {
   "cell_type": "code",
   "execution_count": 55,
   "id": "c8936429",
   "metadata": {},
   "outputs": [],
   "source": [
    "X = df.drop('Churn',axis=1)\n",
    "y = df['Churn']"
   ]
  },
  {
   "cell_type": "code",
   "execution_count": 56,
   "id": "c66290d9",
   "metadata": {},
   "outputs": [],
   "source": [
    "from sklearn.model_selection import train_test_split\n",
    "X_train, X_test, y_train, y_test = train_test_split(X,y,test_size=0.2,random_state=42)"
   ]
  },
  {
   "cell_type": "code",
   "execution_count": 57,
   "id": "88de991f",
   "metadata": {},
   "outputs": [
    {
     "data": {
      "text/plain": [
       "(5625, 19)"
      ]
     },
     "execution_count": 57,
     "metadata": {},
     "output_type": "execute_result"
    }
   ],
   "source": [
    "X_train.shape"
   ]
  },
  {
   "cell_type": "code",
   "execution_count": 58,
   "id": "66439147",
   "metadata": {},
   "outputs": [
    {
     "data": {
      "text/plain": [
       "(1407, 19)"
      ]
     },
     "execution_count": 58,
     "metadata": {},
     "output_type": "execute_result"
    }
   ],
   "source": [
    "X_test.shape"
   ]
  },
  {
   "cell_type": "code",
   "execution_count": 59,
   "id": "d5716c7b",
   "metadata": {},
   "outputs": [
    {
     "data": {
      "text/html": [
       "<div>\n",
       "<style scoped>\n",
       "    .dataframe tbody tr th:only-of-type {\n",
       "        vertical-align: middle;\n",
       "    }\n",
       "\n",
       "    .dataframe tbody tr th {\n",
       "        vertical-align: top;\n",
       "    }\n",
       "\n",
       "    .dataframe thead th {\n",
       "        text-align: right;\n",
       "    }\n",
       "</style>\n",
       "<table border=\"1\" class=\"dataframe\">\n",
       "  <thead>\n",
       "    <tr style=\"text-align: right;\">\n",
       "      <th></th>\n",
       "      <th>SeniorCitizen</th>\n",
       "      <th>Partner</th>\n",
       "      <th>Dependents</th>\n",
       "      <th>tenure</th>\n",
       "      <th>OnlineSecurity</th>\n",
       "      <th>TechSupport</th>\n",
       "      <th>PaperlessBilling</th>\n",
       "      <th>MonthlyCharges</th>\n",
       "      <th>TotalCharges</th>\n",
       "      <th>InternetService_DSL</th>\n",
       "      <th>InternetService_Fiber optic</th>\n",
       "      <th>InternetService_No</th>\n",
       "      <th>Contract_Month-to-month</th>\n",
       "      <th>Contract_One year</th>\n",
       "      <th>Contract_Two year</th>\n",
       "      <th>PaymentMethod_Bank transfer (automatic)</th>\n",
       "      <th>PaymentMethod_Credit card (automatic)</th>\n",
       "      <th>PaymentMethod_Electronic check</th>\n",
       "      <th>PaymentMethod_Mailed check</th>\n",
       "    </tr>\n",
       "  </thead>\n",
       "  <tbody>\n",
       "    <tr>\n",
       "      <th>6030</th>\n",
       "      <td>0</td>\n",
       "      <td>0</td>\n",
       "      <td>0</td>\n",
       "      <td>0.591549</td>\n",
       "      <td>0</td>\n",
       "      <td>0</td>\n",
       "      <td>1</td>\n",
       "      <td>0.306468</td>\n",
       "      <td>0.237411</td>\n",
       "      <td>1</td>\n",
       "      <td>0</td>\n",
       "      <td>0</td>\n",
       "      <td>1</td>\n",
       "      <td>0</td>\n",
       "      <td>0</td>\n",
       "      <td>1</td>\n",
       "      <td>0</td>\n",
       "      <td>0</td>\n",
       "      <td>0</td>\n",
       "    </tr>\n",
       "    <tr>\n",
       "      <th>3410</th>\n",
       "      <td>0</td>\n",
       "      <td>0</td>\n",
       "      <td>0</td>\n",
       "      <td>0.028169</td>\n",
       "      <td>0</td>\n",
       "      <td>0</td>\n",
       "      <td>0</td>\n",
       "      <td>0.349751</td>\n",
       "      <td>0.019605</td>\n",
       "      <td>1</td>\n",
       "      <td>0</td>\n",
       "      <td>0</td>\n",
       "      <td>1</td>\n",
       "      <td>0</td>\n",
       "      <td>0</td>\n",
       "      <td>0</td>\n",
       "      <td>1</td>\n",
       "      <td>0</td>\n",
       "      <td>0</td>\n",
       "    </tr>\n",
       "    <tr>\n",
       "      <th>5483</th>\n",
       "      <td>0</td>\n",
       "      <td>1</td>\n",
       "      <td>0</td>\n",
       "      <td>0.760563</td>\n",
       "      <td>0</td>\n",
       "      <td>0</td>\n",
       "      <td>1</td>\n",
       "      <td>0.592040</td>\n",
       "      <td>0.512272</td>\n",
       "      <td>0</td>\n",
       "      <td>1</td>\n",
       "      <td>0</td>\n",
       "      <td>1</td>\n",
       "      <td>0</td>\n",
       "      <td>0</td>\n",
       "      <td>0</td>\n",
       "      <td>0</td>\n",
       "      <td>1</td>\n",
       "      <td>0</td>\n",
       "    </tr>\n",
       "    <tr>\n",
       "      <th>5524</th>\n",
       "      <td>0</td>\n",
       "      <td>1</td>\n",
       "      <td>1</td>\n",
       "      <td>0.619718</td>\n",
       "      <td>1</td>\n",
       "      <td>1</td>\n",
       "      <td>0</td>\n",
       "      <td>0.362189</td>\n",
       "      <td>0.292511</td>\n",
       "      <td>1</td>\n",
       "      <td>0</td>\n",
       "      <td>0</td>\n",
       "      <td>0</td>\n",
       "      <td>0</td>\n",
       "      <td>1</td>\n",
       "      <td>1</td>\n",
       "      <td>0</td>\n",
       "      <td>0</td>\n",
       "      <td>0</td>\n",
       "    </tr>\n",
       "    <tr>\n",
       "      <th>6337</th>\n",
       "      <td>0</td>\n",
       "      <td>1</td>\n",
       "      <td>1</td>\n",
       "      <td>0.760563</td>\n",
       "      <td>1</td>\n",
       "      <td>0</td>\n",
       "      <td>0</td>\n",
       "      <td>0.822388</td>\n",
       "      <td>0.626564</td>\n",
       "      <td>0</td>\n",
       "      <td>1</td>\n",
       "      <td>0</td>\n",
       "      <td>0</td>\n",
       "      <td>1</td>\n",
       "      <td>0</td>\n",
       "      <td>0</td>\n",
       "      <td>0</td>\n",
       "      <td>0</td>\n",
       "      <td>1</td>\n",
       "    </tr>\n",
       "  </tbody>\n",
       "</table>\n",
       "</div>"
      ],
      "text/plain": [
       "      SeniorCitizen  Partner  Dependents    tenure  OnlineSecurity   \n",
       "6030              0        0           0  0.591549               0  \\\n",
       "3410              0        0           0  0.028169               0   \n",
       "5483              0        1           0  0.760563               0   \n",
       "5524              0        1           1  0.619718               1   \n",
       "6337              0        1           1  0.760563               1   \n",
       "\n",
       "      TechSupport  PaperlessBilling  MonthlyCharges  TotalCharges   \n",
       "6030            0                 1        0.306468      0.237411  \\\n",
       "3410            0                 0        0.349751      0.019605   \n",
       "5483            0                 1        0.592040      0.512272   \n",
       "5524            1                 0        0.362189      0.292511   \n",
       "6337            0                 0        0.822388      0.626564   \n",
       "\n",
       "      InternetService_DSL  InternetService_Fiber optic  InternetService_No   \n",
       "6030                    1                            0                   0  \\\n",
       "3410                    1                            0                   0   \n",
       "5483                    0                            1                   0   \n",
       "5524                    1                            0                   0   \n",
       "6337                    0                            1                   0   \n",
       "\n",
       "      Contract_Month-to-month  Contract_One year  Contract_Two year   \n",
       "6030                        1                  0                  0  \\\n",
       "3410                        1                  0                  0   \n",
       "5483                        1                  0                  0   \n",
       "5524                        0                  0                  1   \n",
       "6337                        0                  1                  0   \n",
       "\n",
       "      PaymentMethod_Bank transfer (automatic)   \n",
       "6030                                        1  \\\n",
       "3410                                        0   \n",
       "5483                                        0   \n",
       "5524                                        1   \n",
       "6337                                        0   \n",
       "\n",
       "      PaymentMethod_Credit card (automatic)  PaymentMethod_Electronic check   \n",
       "6030                                      0                               0  \\\n",
       "3410                                      1                               0   \n",
       "5483                                      0                               1   \n",
       "5524                                      0                               0   \n",
       "6337                                      0                               0   \n",
       "\n",
       "      PaymentMethod_Mailed check  \n",
       "6030                           0  \n",
       "3410                           0  \n",
       "5483                           0  \n",
       "5524                           0  \n",
       "6337                           1  "
      ]
     },
     "execution_count": 59,
     "metadata": {},
     "output_type": "execute_result"
    }
   ],
   "source": [
    "X_train.head()"
   ]
  },
  {
   "cell_type": "markdown",
   "id": "0da6eb45",
   "metadata": {},
   "source": [
    "### Training with Artificial Neural Network(ANN):"
   ]
  },
  {
   "cell_type": "code",
   "execution_count": 60,
   "id": "0b24c21d",
   "metadata": {},
   "outputs": [
    {
     "name": "stdout",
     "output_type": "stream",
     "text": [
      "Model: \"sequential_1\"\n",
      "_________________________________________________________________\n",
      " Layer (type)                Output Shape              Param #   \n",
      "=================================================================\n",
      " dense_3 (Dense)             (None, 19)                380       \n",
      "                                                                 \n",
      " dropout_2 (Dropout)         (None, 19)                0         \n",
      "                                                                 \n",
      " dense_4 (Dense)             (None, 9)                 180       \n",
      "                                                                 \n",
      " dropout_3 (Dropout)         (None, 9)                 0         \n",
      "                                                                 \n",
      " dense_5 (Dense)             (None, 1)                 10        \n",
      "                                                                 \n",
      "=================================================================\n",
      "Total params: 570\n",
      "Trainable params: 570\n",
      "Non-trainable params: 0\n",
      "_________________________________________________________________\n",
      "Epoch 1/150\n",
      "44/44 [==============================] - 1s 7ms/step - loss: 0.8687 - precision: 0.2727 - val_loss: 0.6716 - val_precision: 0.3663\n",
      "Epoch 2/150\n",
      "44/44 [==============================] - 0s 3ms/step - loss: 0.6527 - precision: 0.3081 - val_loss: 0.5699 - val_precision: 0.4612\n",
      "Epoch 3/150\n",
      "44/44 [==============================] - 0s 3ms/step - loss: 0.5854 - precision: 0.3411 - val_loss: 0.5215 - val_precision: 0.7083\n",
      "Epoch 4/150\n",
      "44/44 [==============================] - 0s 3ms/step - loss: 0.5481 - precision: 0.4048 - val_loss: 0.4923 - val_precision: 0.7661\n",
      "Epoch 5/150\n",
      "44/44 [==============================] - 0s 3ms/step - loss: 0.5318 - precision: 0.4554 - val_loss: 0.4729 - val_precision: 0.7546\n",
      "Epoch 6/150\n",
      "44/44 [==============================] - 0s 3ms/step - loss: 0.5095 - precision: 0.5171 - val_loss: 0.4587 - val_precision: 0.7190\n",
      "Epoch 7/150\n",
      "44/44 [==============================] - 0s 3ms/step - loss: 0.5070 - precision: 0.5401 - val_loss: 0.4488 - val_precision: 0.7092\n",
      "Epoch 8/150\n",
      "44/44 [==============================] - 0s 3ms/step - loss: 0.5009 - precision: 0.5685 - val_loss: 0.4422 - val_precision: 0.6899\n",
      "Epoch 9/150\n",
      "44/44 [==============================] - 0s 3ms/step - loss: 0.5001 - precision: 0.5817 - val_loss: 0.4387 - val_precision: 0.6869\n",
      "Epoch 10/150\n",
      "44/44 [==============================] - 0s 3ms/step - loss: 0.4945 - precision: 0.5627 - val_loss: 0.4352 - val_precision: 0.6844\n",
      "Epoch 11/150\n",
      "44/44 [==============================] - 0s 3ms/step - loss: 0.4862 - precision: 0.6102 - val_loss: 0.4334 - val_precision: 0.6903\n",
      "Epoch 12/150\n",
      "44/44 [==============================] - 0s 3ms/step - loss: 0.4873 - precision: 0.5928 - val_loss: 0.4319 - val_precision: 0.6930\n",
      "Epoch 13/150\n",
      "44/44 [==============================] - 0s 3ms/step - loss: 0.4852 - precision: 0.6213 - val_loss: 0.4289 - val_precision: 0.6875\n",
      "Epoch 14/150\n",
      "44/44 [==============================] - 0s 3ms/step - loss: 0.4866 - precision: 0.5992 - val_loss: 0.4287 - val_precision: 0.6839\n",
      "Epoch 15/150\n",
      "44/44 [==============================] - 0s 3ms/step - loss: 0.4850 - precision: 0.6148 - val_loss: 0.4269 - val_precision: 0.6865\n",
      "Epoch 16/150\n",
      "44/44 [==============================] - 0s 3ms/step - loss: 0.4767 - precision: 0.6297 - val_loss: 0.4257 - val_precision: 0.6817\n",
      "Epoch 17/150\n",
      "44/44 [==============================] - 0s 3ms/step - loss: 0.4805 - precision: 0.6276 - val_loss: 0.4252 - val_precision: 0.6863\n",
      "Epoch 18/150\n",
      "44/44 [==============================] - 0s 3ms/step - loss: 0.4786 - precision: 0.6362 - val_loss: 0.4255 - val_precision: 0.6860\n",
      "Epoch 19/150\n",
      "44/44 [==============================] - 0s 3ms/step - loss: 0.4752 - precision: 0.6433 - val_loss: 0.4251 - val_precision: 0.6856\n",
      "Epoch 20/150\n",
      "44/44 [==============================] - 0s 3ms/step - loss: 0.4710 - precision: 0.6354 - val_loss: 0.4242 - val_precision: 0.6925\n",
      "Epoch 21/150\n",
      "44/44 [==============================] - 0s 3ms/step - loss: 0.4713 - precision: 0.6442 - val_loss: 0.4224 - val_precision: 0.6866\n",
      "Epoch 22/150\n",
      "44/44 [==============================] - 0s 3ms/step - loss: 0.4731 - precision: 0.6491 - val_loss: 0.4211 - val_precision: 0.6866\n",
      "Epoch 23/150\n",
      "44/44 [==============================] - 0s 3ms/step - loss: 0.4712 - precision: 0.6335 - val_loss: 0.4217 - val_precision: 0.6858\n",
      "Epoch 24/150\n",
      "44/44 [==============================] - 0s 3ms/step - loss: 0.4704 - precision: 0.6333 - val_loss: 0.4216 - val_precision: 0.6877\n",
      "Epoch 25/150\n",
      "44/44 [==============================] - 0s 3ms/step - loss: 0.4652 - precision: 0.6365 - val_loss: 0.4215 - val_precision: 0.6839\n",
      "Epoch 26/150\n",
      "44/44 [==============================] - 0s 3ms/step - loss: 0.4682 - precision: 0.6272 - val_loss: 0.4202 - val_precision: 0.6858\n",
      "Epoch 27/150\n",
      "44/44 [==============================] - 0s 3ms/step - loss: 0.4667 - precision: 0.6589 - val_loss: 0.4203 - val_precision: 0.6888\n",
      "Epoch 28/150\n",
      "44/44 [==============================] - 0s 3ms/step - loss: 0.4646 - precision: 0.6449 - val_loss: 0.4193 - val_precision: 0.6872\n",
      "Epoch 29/150\n",
      "44/44 [==============================] - 0s 3ms/step - loss: 0.4665 - precision: 0.6315 - val_loss: 0.4197 - val_precision: 0.6948\n",
      "Epoch 30/150\n",
      "44/44 [==============================] - 0s 3ms/step - loss: 0.4683 - precision: 0.6468 - val_loss: 0.4200 - val_precision: 0.6916\n",
      "Epoch 31/150\n",
      "44/44 [==============================] - 0s 3ms/step - loss: 0.4601 - precision: 0.6339 - val_loss: 0.4201 - val_precision: 0.6921\n",
      "Epoch 32/150\n",
      "44/44 [==============================] - 0s 3ms/step - loss: 0.4521 - precision: 0.6647 - val_loss: 0.4178 - val_precision: 0.6893\n",
      "Epoch 33/150\n",
      "44/44 [==============================] - 0s 3ms/step - loss: 0.4561 - precision: 0.6686 - val_loss: 0.4169 - val_precision: 0.6849\n",
      "Epoch 34/150\n",
      "44/44 [==============================] - 0s 3ms/step - loss: 0.4622 - precision: 0.6605 - val_loss: 0.4179 - val_precision: 0.6991\n",
      "Epoch 35/150\n",
      "44/44 [==============================] - 0s 3ms/step - loss: 0.4505 - precision: 0.6613 - val_loss: 0.4178 - val_precision: 0.6943\n",
      "Epoch 36/150\n",
      "44/44 [==============================] - 0s 3ms/step - loss: 0.4606 - precision: 0.6490 - val_loss: 0.4189 - val_precision: 0.6936\n",
      "Epoch 37/150\n",
      "44/44 [==============================] - 0s 3ms/step - loss: 0.4549 - precision: 0.6346 - val_loss: 0.4190 - val_precision: 0.6914\n",
      "Epoch 38/150\n",
      "44/44 [==============================] - 0s 3ms/step - loss: 0.4557 - precision: 0.6414 - val_loss: 0.4176 - val_precision: 0.6946\n",
      "Epoch 39/150\n",
      "44/44 [==============================] - 0s 3ms/step - loss: 0.4489 - precision: 0.6657 - val_loss: 0.4170 - val_precision: 0.6941\n",
      "Epoch 40/150\n",
      "44/44 [==============================] - 0s 3ms/step - loss: 0.4519 - precision: 0.6405 - val_loss: 0.4187 - val_precision: 0.6969\n",
      "Epoch 41/150\n",
      "44/44 [==============================] - 0s 3ms/step - loss: 0.4550 - precision: 0.6454 - val_loss: 0.4183 - val_precision: 0.6907\n",
      "Epoch 42/150\n",
      "44/44 [==============================] - 0s 3ms/step - loss: 0.4521 - precision: 0.6531 - val_loss: 0.4178 - val_precision: 0.7031\n",
      "Epoch 43/150\n",
      "44/44 [==============================] - 0s 3ms/step - loss: 0.4496 - precision: 0.6631 - val_loss: 0.4169 - val_precision: 0.6910\n",
      "Epoch 44/150\n",
      "44/44 [==============================] - 0s 3ms/step - loss: 0.4516 - precision: 0.6647 - val_loss: 0.4184 - val_precision: 0.7038\n",
      "Epoch 45/150\n",
      "44/44 [==============================] - 0s 3ms/step - loss: 0.4496 - precision: 0.6677 - val_loss: 0.4178 - val_precision: 0.6949\n",
      "Epoch 46/150\n",
      "44/44 [==============================] - 0s 3ms/step - loss: 0.4516 - precision: 0.6518 - val_loss: 0.4184 - val_precision: 0.6914\n",
      "Epoch 47/150\n",
      "44/44 [==============================] - 0s 3ms/step - loss: 0.4518 - precision: 0.6598 - val_loss: 0.4183 - val_precision: 0.6994\n",
      "Epoch 48/150\n",
      "44/44 [==============================] - 0s 3ms/step - loss: 0.4495 - precision: 0.6556 - val_loss: 0.4193 - val_precision: 0.6959\n",
      "Epoch 49/150\n",
      "44/44 [==============================] - 0s 3ms/step - loss: 0.4514 - precision: 0.6672 - val_loss: 0.4177 - val_precision: 0.6890\n",
      "Epoch 50/150\n"
     ]
    },
    {
     "name": "stdout",
     "output_type": "stream",
     "text": [
      "44/44 [==============================] - 0s 3ms/step - loss: 0.4456 - precision: 0.6777 - val_loss: 0.4179 - val_precision: 0.6975\n",
      "Epoch 51/150\n",
      "44/44 [==============================] - 0s 3ms/step - loss: 0.4493 - precision: 0.6657 - val_loss: 0.4190 - val_precision: 0.7051\n",
      "Epoch 52/150\n",
      "44/44 [==============================] - 0s 3ms/step - loss: 0.4541 - precision: 0.6460 - val_loss: 0.4196 - val_precision: 0.7019\n",
      "Epoch 53/150\n",
      "44/44 [==============================] - 0s 2ms/step - loss: 0.4463 - precision: 0.6568 - val_loss: 0.4182 - val_precision: 0.6991\n",
      "Epoch 54/150\n",
      "44/44 [==============================] - 0s 2ms/step - loss: 0.4447 - precision: 0.6667 - val_loss: 0.4174 - val_precision: 0.7037\n",
      "Epoch 55/150\n",
      "44/44 [==============================] - 0s 2ms/step - loss: 0.4446 - precision: 0.6599 - val_loss: 0.4187 - val_precision: 0.6991\n",
      "Epoch 56/150\n",
      "44/44 [==============================] - 0s 2ms/step - loss: 0.4430 - precision: 0.6707 - val_loss: 0.4171 - val_precision: 0.7031\n",
      "Epoch 57/150\n",
      "44/44 [==============================] - 0s 2ms/step - loss: 0.4488 - precision: 0.6695 - val_loss: 0.4175 - val_precision: 0.7037\n",
      "Epoch 58/150\n",
      "44/44 [==============================] - 0s 3ms/step - loss: 0.4487 - precision: 0.6535 - val_loss: 0.4193 - val_precision: 0.6994\n",
      "Epoch 59/150\n",
      "44/44 [==============================] - 0s 3ms/step - loss: 0.4452 - precision: 0.6656 - val_loss: 0.4178 - val_precision: 0.7003\n",
      "Epoch 60/150\n",
      "44/44 [==============================] - 0s 3ms/step - loss: 0.4441 - precision: 0.6767 - val_loss: 0.4191 - val_precision: 0.6945\n",
      "Epoch 61/150\n",
      "44/44 [==============================] - 0s 3ms/step - loss: 0.4424 - precision: 0.6795 - val_loss: 0.4172 - val_precision: 0.7040\n",
      "Epoch 62/150\n",
      "44/44 [==============================] - 0s 3ms/step - loss: 0.4440 - precision: 0.6590 - val_loss: 0.4192 - val_precision: 0.6957\n",
      "Epoch 63/150\n",
      "44/44 [==============================] - 0s 3ms/step - loss: 0.4482 - precision: 0.6584 - val_loss: 0.4193 - val_precision: 0.7010\n",
      "Epoch 64/150\n",
      "44/44 [==============================] - 0s 3ms/step - loss: 0.4470 - precision: 0.6657 - val_loss: 0.4184 - val_precision: 0.6965\n",
      "Epoch 65/150\n",
      "44/44 [==============================] - 0s 3ms/step - loss: 0.4394 - precision: 0.6540 - val_loss: 0.4181 - val_precision: 0.6981\n",
      "Epoch 66/150\n",
      "44/44 [==============================] - 0s 3ms/step - loss: 0.4405 - precision: 0.6646 - val_loss: 0.4166 - val_precision: 0.6970\n",
      "Epoch 67/150\n",
      "44/44 [==============================] - 0s 3ms/step - loss: 0.4454 - precision: 0.6613 - val_loss: 0.4173 - val_precision: 0.6871\n",
      "Epoch 68/150\n",
      "44/44 [==============================] - 0s 3ms/step - loss: 0.4350 - precision: 0.6681 - val_loss: 0.4158 - val_precision: 0.6928\n",
      "Epoch 69/150\n",
      "44/44 [==============================] - 0s 3ms/step - loss: 0.4393 - precision: 0.6676 - val_loss: 0.4153 - val_precision: 0.7006\n",
      "Epoch 70/150\n",
      "44/44 [==============================] - 0s 3ms/step - loss: 0.4393 - precision: 0.6638 - val_loss: 0.4175 - val_precision: 0.6977\n",
      "Epoch 71/150\n",
      "44/44 [==============================] - 0s 3ms/step - loss: 0.4387 - precision: 0.6480 - val_loss: 0.4178 - val_precision: 0.7043\n",
      "Epoch 72/150\n",
      "44/44 [==============================] - 0s 3ms/step - loss: 0.4327 - precision: 0.6770 - val_loss: 0.4148 - val_precision: 0.6960\n",
      "Epoch 73/150\n",
      "44/44 [==============================] - 0s 3ms/step - loss: 0.4424 - precision: 0.6489 - val_loss: 0.4167 - val_precision: 0.7009\n",
      "Epoch 74/150\n",
      "44/44 [==============================] - 0s 3ms/step - loss: 0.4422 - precision: 0.6602 - val_loss: 0.4182 - val_precision: 0.7029\n",
      "Epoch 75/150\n",
      "44/44 [==============================] - 0s 3ms/step - loss: 0.4402 - precision: 0.6622 - val_loss: 0.4174 - val_precision: 0.7044\n",
      "Epoch 76/150\n",
      "44/44 [==============================] - 0s 3ms/step - loss: 0.4375 - precision: 0.6748 - val_loss: 0.4179 - val_precision: 0.7063\n",
      "Epoch 77/150\n",
      "44/44 [==============================] - 0s 3ms/step - loss: 0.4404 - precision: 0.6561 - val_loss: 0.4155 - val_precision: 0.7030\n",
      "Epoch 78/150\n",
      "44/44 [==============================] - 0s 3ms/step - loss: 0.4335 - precision: 0.6617 - val_loss: 0.4152 - val_precision: 0.7030\n",
      "Epoch 79/150\n",
      "44/44 [==============================] - 0s 3ms/step - loss: 0.4410 - precision: 0.6662 - val_loss: 0.4174 - val_precision: 0.7051\n",
      "Epoch 80/150\n",
      "44/44 [==============================] - 0s 3ms/step - loss: 0.4395 - precision: 0.6561 - val_loss: 0.4177 - val_precision: 0.7078\n",
      "Epoch 81/150\n",
      "44/44 [==============================] - 0s 3ms/step - loss: 0.4346 - precision: 0.6691 - val_loss: 0.4166 - val_precision: 0.7009\n",
      "Epoch 82/150\n",
      "44/44 [==============================] - 0s 3ms/step - loss: 0.4385 - precision: 0.6490 - val_loss: 0.4154 - val_precision: 0.6994\n",
      "Epoch 83/150\n",
      "44/44 [==============================] - 0s 3ms/step - loss: 0.4351 - precision: 0.6566 - val_loss: 0.4158 - val_precision: 0.7064\n",
      "Epoch 84/150\n",
      "44/44 [==============================] - 0s 3ms/step - loss: 0.4395 - precision: 0.6726 - val_loss: 0.4158 - val_precision: 0.6997\n",
      "Epoch 85/150\n",
      "44/44 [==============================] - 0s 3ms/step - loss: 0.4345 - precision: 0.6581 - val_loss: 0.4163 - val_precision: 0.7103\n",
      "Epoch 86/150\n",
      "44/44 [==============================] - 0s 3ms/step - loss: 0.4357 - precision: 0.6637 - val_loss: 0.4154 - val_precision: 0.7018\n",
      "Epoch 87/150\n",
      "44/44 [==============================] - 0s 3ms/step - loss: 0.4348 - precision: 0.6643 - val_loss: 0.4142 - val_precision: 0.6948\n",
      "Epoch 88/150\n",
      "44/44 [==============================] - 0s 3ms/step - loss: 0.4395 - precision: 0.6494 - val_loss: 0.4153 - val_precision: 0.7039\n",
      "Epoch 89/150\n",
      "44/44 [==============================] - 0s 2ms/step - loss: 0.4370 - precision: 0.6628 - val_loss: 0.4156 - val_precision: 0.7052\n",
      "Epoch 90/150\n",
      "44/44 [==============================] - 0s 2ms/step - loss: 0.4394 - precision: 0.6618 - val_loss: 0.4159 - val_precision: 0.6962\n",
      "Epoch 91/150\n",
      "44/44 [==============================] - 0s 2ms/step - loss: 0.4386 - precision: 0.6643 - val_loss: 0.4174 - val_precision: 0.7050\n",
      "Epoch 92/150\n",
      "44/44 [==============================] - 0s 2ms/step - loss: 0.4360 - precision: 0.6528 - val_loss: 0.4154 - val_precision: 0.6925\n",
      "Epoch 93/150\n",
      "44/44 [==============================] - 0s 3ms/step - loss: 0.4290 - precision: 0.6580 - val_loss: 0.4163 - val_precision: 0.7040\n",
      "Epoch 94/150\n",
      "44/44 [==============================] - 0s 3ms/step - loss: 0.4341 - precision: 0.6504 - val_loss: 0.4172 - val_precision: 0.7053\n",
      "Epoch 95/150\n",
      "44/44 [==============================] - 0s 3ms/step - loss: 0.4356 - precision: 0.6657 - val_loss: 0.4155 - val_precision: 0.6962\n",
      "Epoch 96/150\n",
      "44/44 [==============================] - 0s 3ms/step - loss: 0.4353 - precision: 0.6705 - val_loss: 0.4162 - val_precision: 0.6979\n",
      "Epoch 97/150\n",
      "44/44 [==============================] - 0s 3ms/step - loss: 0.4345 - precision: 0.6653 - val_loss: 0.4157 - val_precision: 0.6958\n",
      "Epoch 98/150\n",
      "44/44 [==============================] - 0s 2ms/step - loss: 0.4355 - precision: 0.6671 - val_loss: 0.4165 - val_precision: 0.7143\n",
      "Epoch 99/150\n",
      "44/44 [==============================] - 0s 3ms/step - loss: 0.4368 - precision: 0.6770 - val_loss: 0.4167 - val_precision: 0.7125\n",
      "Epoch 100/150\n",
      "44/44 [==============================] - 0s 3ms/step - loss: 0.4340 - precision: 0.6561 - val_loss: 0.4168 - val_precision: 0.7053\n",
      "Epoch 101/150\n",
      "44/44 [==============================] - 0s 3ms/step - loss: 0.4384 - precision: 0.6333 - val_loss: 0.4161 - val_precision: 0.7098\n",
      "Epoch 102/150\n",
      "44/44 [==============================] - 0s 3ms/step - loss: 0.4321 - precision: 0.6671 - val_loss: 0.4150 - val_precision: 0.6982\n",
      "Epoch 103/150\n",
      "44/44 [==============================] - 0s 3ms/step - loss: 0.4392 - precision: 0.6450 - val_loss: 0.4169 - val_precision: 0.7066\n",
      "Epoch 104/150\n",
      "44/44 [==============================] - 0s 3ms/step - loss: 0.4307 - precision: 0.6667 - val_loss: 0.4159 - val_precision: 0.7015\n",
      "Epoch 105/150\n",
      "44/44 [==============================] - 0s 3ms/step - loss: 0.4361 - precision: 0.6504 - val_loss: 0.4173 - val_precision: 0.7003\n",
      "Epoch 106/150\n",
      "44/44 [==============================] - 0s 3ms/step - loss: 0.4285 - precision: 0.6883 - val_loss: 0.4164 - val_precision: 0.7050\n"
     ]
    },
    {
     "name": "stdout",
     "output_type": "stream",
     "text": [
      "Epoch 107/150\n",
      "44/44 [==============================] - 0s 3ms/step - loss: 0.4398 - precision: 0.6415 - val_loss: 0.4184 - val_precision: 0.7078\n",
      "Epoch 108/150\n",
      "44/44 [==============================] - 0s 3ms/step - loss: 0.4369 - precision: 0.6474 - val_loss: 0.4170 - val_precision: 0.7075\n",
      "Epoch 109/150\n",
      "44/44 [==============================] - 0s 3ms/step - loss: 0.4309 - precision: 0.6662 - val_loss: 0.4149 - val_precision: 0.7045\n",
      "Epoch 110/150\n",
      "44/44 [==============================] - 0s 3ms/step - loss: 0.4276 - precision: 0.6598 - val_loss: 0.4169 - val_precision: 0.7078\n",
      "Epoch 111/150\n",
      "44/44 [==============================] - 0s 3ms/step - loss: 0.4328 - precision: 0.6750 - val_loss: 0.4156 - val_precision: 0.6850\n",
      "Epoch 112/150\n",
      "44/44 [==============================] - 0s 3ms/step - loss: 0.4355 - precision: 0.6558 - val_loss: 0.4155 - val_precision: 0.7052\n",
      "Epoch 113/150\n",
      "44/44 [==============================] - 0s 3ms/step - loss: 0.4296 - precision: 0.6535 - val_loss: 0.4159 - val_precision: 0.7038\n",
      "Epoch 114/150\n",
      "44/44 [==============================] - 0s 3ms/step - loss: 0.4361 - precision: 0.6604 - val_loss: 0.4162 - val_precision: 0.6898\n",
      "Epoch 115/150\n",
      "44/44 [==============================] - 0s 3ms/step - loss: 0.4335 - precision: 0.6589 - val_loss: 0.4155 - val_precision: 0.6973\n",
      "Epoch 116/150\n",
      "44/44 [==============================] - 0s 3ms/step - loss: 0.4287 - precision: 0.6579 - val_loss: 0.4162 - val_precision: 0.6942\n",
      "Epoch 117/150\n",
      "44/44 [==============================] - 0s 3ms/step - loss: 0.4301 - precision: 0.6667 - val_loss: 0.4148 - val_precision: 0.7006\n",
      "Epoch 118/150\n",
      "44/44 [==============================] - 0s 3ms/step - loss: 0.4309 - precision: 0.6495 - val_loss: 0.4162 - val_precision: 0.6960\n",
      "Epoch 119/150\n",
      "44/44 [==============================] - 0s 3ms/step - loss: 0.4342 - precision: 0.6613 - val_loss: 0.4172 - val_precision: 0.6951\n",
      "Epoch 120/150\n",
      "44/44 [==============================] - 0s 3ms/step - loss: 0.4281 - precision: 0.6652 - val_loss: 0.4159 - val_precision: 0.6921\n",
      "Epoch 121/150\n",
      "44/44 [==============================] - 0s 3ms/step - loss: 0.4265 - precision: 0.6662 - val_loss: 0.4157 - val_precision: 0.7022\n",
      "Epoch 122/150\n",
      "44/44 [==============================] - 0s 3ms/step - loss: 0.4338 - precision: 0.6491 - val_loss: 0.4175 - val_precision: 0.7078\n",
      "Epoch 123/150\n",
      "44/44 [==============================] - 0s 3ms/step - loss: 0.4273 - precision: 0.6671 - val_loss: 0.4143 - val_precision: 0.6941\n",
      "Epoch 124/150\n",
      "44/44 [==============================] - 0s 3ms/step - loss: 0.4290 - precision: 0.6568 - val_loss: 0.4153 - val_precision: 0.7009\n",
      "Epoch 125/150\n",
      "44/44 [==============================] - 0s 3ms/step - loss: 0.4328 - precision: 0.6597 - val_loss: 0.4148 - val_precision: 0.6955\n",
      "Epoch 126/150\n",
      "44/44 [==============================] - 0s 3ms/step - loss: 0.4289 - precision: 0.6625 - val_loss: 0.4156 - val_precision: 0.6907\n",
      "Epoch 127/150\n",
      "44/44 [==============================] - 0s 3ms/step - loss: 0.4204 - precision: 0.6728 - val_loss: 0.4144 - val_precision: 0.6910\n",
      "Epoch 128/150\n",
      "44/44 [==============================] - 0s 3ms/step - loss: 0.4274 - precision: 0.6695 - val_loss: 0.4159 - val_precision: 0.6907\n",
      "Epoch 129/150\n",
      "44/44 [==============================] - 0s 3ms/step - loss: 0.4256 - precision: 0.6676 - val_loss: 0.4157 - val_precision: 0.6930\n",
      "Epoch 130/150\n",
      "44/44 [==============================] - 0s 3ms/step - loss: 0.4275 - precision: 0.6604 - val_loss: 0.4165 - val_precision: 0.6914\n",
      "Epoch 131/150\n",
      "44/44 [==============================] - 0s 3ms/step - loss: 0.4282 - precision: 0.6639 - val_loss: 0.4151 - val_precision: 0.6901\n",
      "Epoch 132/150\n",
      "44/44 [==============================] - 0s 3ms/step - loss: 0.4270 - precision: 0.6581 - val_loss: 0.4152 - val_precision: 0.6873\n",
      "Epoch 133/150\n",
      "44/44 [==============================] - 0s 3ms/step - loss: 0.4256 - precision: 0.6602 - val_loss: 0.4143 - val_precision: 0.6968\n",
      "Epoch 134/150\n",
      "44/44 [==============================] - 0s 3ms/step - loss: 0.4276 - precision: 0.6504 - val_loss: 0.4163 - val_precision: 0.6957\n",
      "Epoch 135/150\n",
      "44/44 [==============================] - 0s 3ms/step - loss: 0.4234 - precision: 0.6611 - val_loss: 0.4143 - val_precision: 0.6957\n",
      "Epoch 136/150\n",
      "44/44 [==============================] - 0s 3ms/step - loss: 0.4291 - precision: 0.6610 - val_loss: 0.4155 - val_precision: 0.6976\n",
      "Epoch 137/150\n",
      "44/44 [==============================] - 0s 3ms/step - loss: 0.4261 - precision: 0.6624 - val_loss: 0.4158 - val_precision: 0.6944\n",
      "Epoch 138/150\n",
      "44/44 [==============================] - 0s 3ms/step - loss: 0.4253 - precision: 0.6653 - val_loss: 0.4156 - val_precision: 0.6939\n",
      "Epoch 139/150\n",
      "44/44 [==============================] - 0s 3ms/step - loss: 0.4247 - precision: 0.6685 - val_loss: 0.4151 - val_precision: 0.6908\n",
      "Epoch 140/150\n",
      "44/44 [==============================] - 0s 3ms/step - loss: 0.4277 - precision: 0.6559 - val_loss: 0.4165 - val_precision: 0.6903\n",
      "Epoch 141/150\n",
      "44/44 [==============================] - 0s 3ms/step - loss: 0.4253 - precision: 0.6475 - val_loss: 0.4168 - val_precision: 0.7006\n",
      "Epoch 142/150\n",
      "44/44 [==============================] - 0s 3ms/step - loss: 0.4258 - precision: 0.6723 - val_loss: 0.4152 - val_precision: 0.7045\n",
      "Epoch 143/150\n",
      "44/44 [==============================] - 0s 3ms/step - loss: 0.4272 - precision: 0.6644 - val_loss: 0.4161 - val_precision: 0.6953\n",
      "Epoch 144/150\n",
      "44/44 [==============================] - 0s 3ms/step - loss: 0.4303 - precision: 0.6528 - val_loss: 0.4156 - val_precision: 0.6948\n",
      "Epoch 145/150\n",
      "44/44 [==============================] - 0s 3ms/step - loss: 0.4221 - precision: 0.6767 - val_loss: 0.4173 - val_precision: 0.7028\n",
      "Epoch 146/150\n",
      "44/44 [==============================] - 0s 3ms/step - loss: 0.4271 - precision: 0.6597 - val_loss: 0.4146 - val_precision: 0.6845\n",
      "Epoch 147/150\n",
      "44/44 [==============================] - 0s 3ms/step - loss: 0.4251 - precision: 0.6658 - val_loss: 0.4167 - val_precision: 0.7018\n",
      "Epoch 148/150\n",
      "44/44 [==============================] - 0s 3ms/step - loss: 0.4264 - precision: 0.6731 - val_loss: 0.4158 - val_precision: 0.6932\n",
      "Epoch 149/150\n",
      "44/44 [==============================] - 0s 3ms/step - loss: 0.4230 - precision: 0.6807 - val_loss: 0.4154 - val_precision: 0.6928\n",
      "Epoch 150/150\n",
      "44/44 [==============================] - 0s 3ms/step - loss: 0.4267 - precision: 0.6612 - val_loss: 0.4175 - val_precision: 0.7009\n"
     ]
    }
   ],
   "source": [
    "import tensorflow as tf\n",
    "from tensorflow import keras\n",
    "from tensorflow.keras import Sequential \n",
    "from tensorflow.keras.layers import Dense\n",
    "from tensorflow.keras.layers import Dropout\n",
    "\n",
    "\n",
    "model = keras.Sequential([\n",
    "    keras.layers.Dense(19,input_shape=(19,),activation = 'relu', kernel_initializer=tf.keras.initializers.HeNormal(seed=42)),\n",
    "    Dropout(0.2),\n",
    "    \n",
    "    keras.layers.Dense(9,activation = 'relu', kernel_initializer=tf.keras.initializers.HeNormal(seed=42)),\n",
    "    Dropout(0.2),\n",
    "    \n",
    "    keras.layers.Dense(1,activation = 'sigmoid')\n",
    "    \n",
    "])\n",
    "\n",
    "model.summary()\n",
    "\n",
    "\n",
    "\n",
    "model.compile(optimizer = 'Adam', loss = 'binary_crossentropy' , metrics = ['Precision'])\n",
    "\n",
    "\n",
    "history = model.fit(X_train,y_train,batch_size=90,verbose=1,epochs=150,validation_split=0.3)\n",
    "\n",
    "\n",
    "# Another way\n",
    "# model = Sequential()\n",
    "\n",
    "# model.add(Dense(11,activation='sigmoid',input_dim=11))\n",
    "# model.add(Dense(11,activation='sigmoid'))\n",
    "# model.add(Dense(1,activation='sigmoid'))"
   ]
  },
  {
   "cell_type": "markdown",
   "id": "0fb4fde3",
   "metadata": {},
   "source": [
    "### Evaluation of the model\n"
   ]
  },
  {
   "cell_type": "code",
   "execution_count": 61,
   "id": "e55217c1",
   "metadata": {},
   "outputs": [
    {
     "name": "stdout",
     "output_type": "stream",
     "text": [
      "44/44 [==============================] - 0s 1ms/step - loss: 0.4379 - precision: 0.6423\n"
     ]
    },
    {
     "data": {
      "text/plain": [
       "[0.4378952383995056, 0.642276406288147]"
      ]
     },
     "execution_count": 61,
     "metadata": {},
     "output_type": "execute_result"
    }
   ],
   "source": [
    "\n",
    "model.evaluate(X_test,y_test)\n"
   ]
  },
  {
   "cell_type": "raw",
   "id": "53701247",
   "metadata": {},
   "source": [
    "Here, the precision is 0.64 and the loss is 0.43. "
   ]
  },
  {
   "cell_type": "code",
   "execution_count": null,
   "id": "2887df37",
   "metadata": {},
   "outputs": [],
   "source": []
  },
  {
   "cell_type": "raw",
   "id": "78fa0897",
   "metadata": {},
   "source": [
    "Now, predicting in the test data:"
   ]
  },
  {
   "cell_type": "code",
   "execution_count": 62,
   "id": "bcd24c35",
   "metadata": {},
   "outputs": [
    {
     "name": "stdout",
     "output_type": "stream",
     "text": [
      "44/44 [==============================] - 0s 950us/step\n"
     ]
    }
   ],
   "source": [
    "y_pred_ann = model.predict(X_test) # returns array"
   ]
  },
  {
   "cell_type": "code",
   "execution_count": 63,
   "id": "61be3c92",
   "metadata": {},
   "outputs": [
    {
     "name": "stdout",
     "output_type": "stream",
     "text": [
      "[[0.01723471]\n",
      " [0.12963258]\n",
      " [0.4156651 ]\n",
      " ...\n",
      " [0.0891497 ]\n",
      " [0.1616571 ]\n",
      " [0.00825303]]\n"
     ]
    }
   ],
   "source": [
    "print(y_pred_ann)"
   ]
  },
  {
   "cell_type": "code",
   "execution_count": 64,
   "id": "9783b28c",
   "metadata": {},
   "outputs": [],
   "source": []
  },
  {
   "cell_type": "code",
   "execution_count": 65,
   "id": "d0eb5201",
   "metadata": {},
   "outputs": [
    {
     "name": "stdout",
     "output_type": "stream",
     "text": [
      "1407\n",
      "0.24427275\n"
     ]
    }
   ],
   "source": [
    "print(len(y_pred_ann))\n",
    "\n",
    "mean = np.mean(y_pred_ann)\n",
    "print(mean)"
   ]
  },
  {
   "cell_type": "code",
   "execution_count": 66,
   "id": "20d4391f",
   "metadata": {},
   "outputs": [],
   "source": [
    "y_predicted_ann = []\n",
    "for element in y_pred_ann:\n",
    "    if element > 0.5:\n",
    "        y_predicted_ann.append(1)\n",
    "    else:\n",
    "        y_predicted_ann.append(0)\n"
   ]
  },
  {
   "cell_type": "code",
   "execution_count": 67,
   "id": "85be7992",
   "metadata": {},
   "outputs": [
    {
     "data": {
      "text/plain": [
       "[0, 0, 0, 0, 0, 0, 0, 1, 0, 0]"
      ]
     },
     "execution_count": 67,
     "metadata": {},
     "output_type": "execute_result"
    }
   ],
   "source": [
    "y_predicted_ann[:10]"
   ]
  },
  {
   "cell_type": "code",
   "execution_count": 68,
   "id": "5ae9055d",
   "metadata": {},
   "outputs": [
    {
     "name": "stdout",
     "output_type": "stream",
     "text": [
      "0.6422764227642277\n",
      "0.42245989304812837\n"
     ]
    }
   ],
   "source": [
    "from sklearn.metrics import  precision_score, recall_score\n",
    "\n",
    "print(precision_score(y_test,y_predicted_ann))\n",
    "print(recall_score(y_test,y_predicted_ann))"
   ]
  },
  {
   "cell_type": "raw",
   "id": "8714cb08",
   "metadata": {},
   "source": [
    "Here, the precision score for the test data is 0.64 and recall score is 0.42"
   ]
  },
  {
   "cell_type": "markdown",
   "id": "e6f23bf1",
   "metadata": {},
   "source": [
    "### Training with the Machine Learning models:"
   ]
  },
  {
   "cell_type": "raw",
   "id": "017a35ef",
   "metadata": {},
   "source": [
    "Defining the train function:"
   ]
  },
  {
   "cell_type": "code",
   "execution_count": 71,
   "id": "7b68dc94",
   "metadata": {},
   "outputs": [],
   "source": [
    "def train(x_train, y_train, model, hyperparameters):\n",
    "    \"\"\"\n",
    "    Arguments:\n",
    "    x_train -- input features of the training set\n",
    "    y_train -- target values of the training set\n",
    "    model -- an instance of the model class (e.g., LogisticRegression, KNeighborsClassifier, etc.)\n",
    "    hyperparameters -- dictionary of list of hyperparameter values\n",
    "    \n",
    "    Returns:\n",
    "    best_params -- dictionary of best hyperparameters found\n",
    "    best_model -- an instance of the model class with tuned hyperparameters\n",
    "    \"\"\"\n",
    "    # Perform grid search with cross-validation\n",
    "    grid_search = GridSearchCV(estimator=model, param_grid=hyperparameters, cv=5)\n",
    "    grid_search.fit(x_train, y_train)\n",
    "    \n",
    "    # Print the best hyperparameters found\n",
    "    best_params = grid_search.best_params_\n",
    "    print(\"Best Hyperparameters:\", best_params)\n",
    "    \n",
    "    # Train the model with best hyperparameters\n",
    "    best_model = model.set_params(**best_params)\n",
    "    best_model.fit(x_train, y_train)\n",
    "    \n",
    "    return best_params, best_model"
   ]
  },
  {
   "cell_type": "raw",
   "id": "4b981442",
   "metadata": {},
   "source": [
    "Defining the evaluate_model function:"
   ]
  },
  {
   "cell_type": "code",
   "execution_count": 72,
   "id": "7fe32043",
   "metadata": {},
   "outputs": [],
   "source": [
    "def evaluate_model(x_test, y_test, best_model):\n",
    "    \"\"\"\n",
    "    Arguments:\n",
    "    best_model -- an instance of the model class with tuned hyperparameters\n",
    "    x_test -- input features of the test set\n",
    "    y_test -- target values of the test set\n",
    "    \n",
    "    Returns:\n",
    "    accuracy -- accuracy score on the test set\n",
    "    precision -- precision score on the test set\n",
    "    recall -- recall score on the test set\n",
    "    f1_score -- F1 score on the test set\n",
    "    \"\"\"\n",
    "    \n",
    "    # Predict the target values for the test set\n",
    "    y_pred = best_model.predict(x_test)\n",
    "    \n",
    "    # Calculate evaluation metrics\n",
    "    accuracy = accuracy_score(y_test, y_pred)\n",
    "    precision = precision_score(y_test, y_pred)\n",
    "    recall = recall_score(y_test, y_pred)\n",
    "    f1 = f1_score(y_test, y_pred)\n",
    "    \n",
    "    print(\"Accuracy:\", accuracy)\n",
    "    print(\"Precision:\", precision)\n",
    "    print(\"Recall:\", recall)\n",
    "    print(\"F1 Score:\", f1)\n",
    "    \n",
    "    return accuracy, precision, recall, f1"
   ]
  },
  {
   "cell_type": "markdown",
   "id": "5bc2b64e",
   "metadata": {},
   "source": [
    "### 1.Using Logistic Regression"
   ]
  },
  {
   "cell_type": "code",
   "execution_count": 73,
   "id": "3ec1cc04",
   "metadata": {},
   "outputs": [
    {
     "name": "stdout",
     "output_type": "stream",
     "text": [
      "Best Hyperparameters: {'C': 0.1, 'penalty': 'l2', 'solver': 'liblinear'}\n",
      "Accuracy: 0.7867803837953091\n",
      "Precision: 0.6217105263157895\n",
      "Recall: 0.5053475935828877\n",
      "F1 Score: 0.5575221238938054\n"
     ]
    }
   ],
   "source": [
    "# \n",
    "from  sklearn.linear_model import LogisticRegression\n",
    "from sklearn.metrics import  precision_score, recall_score, accuracy_score, f1_score\n",
    "from sklearn.model_selection import cross_val_score\n",
    "from sklearn.model_selection import GridSearchCV\n",
    "\n",
    "\n",
    "model = LogisticRegression(random_state = 42, max_iter=1000)\n",
    "\n",
    "hyperparameters = {\n",
    "    'C': [ 0.1, 0.5, 1],\n",
    "    'penalty': ['l1', 'l2'],\n",
    "    'solver': ['liblinear']\n",
    "}\n",
    "\n",
    "_, best_model_log = train(X_train, y_train, model, hyperparameters)\n",
    "scores_log = evaluate_model(X_test, y_test, best_model_log)\n",
    "# scores=cross_val_score(estimator=model_log,X=X_train,y=y_train,cv=5,scoring='roc_auc')\n",
    "# print(scores)\n",
    "# print(\"Mean\",scores.mean())\n",
    "\n",
    "# model2.fit(X_train,y_train)\n",
    "# y_pred_LR = model2.predict(X_test)\n",
    "# print(y_pred_LR)"
   ]
  },
  {
   "cell_type": "code",
   "execution_count": 74,
   "id": "962c82c9",
   "metadata": {},
   "outputs": [],
   "source": [
    "# log_precision = scores[1]\n",
    "# print(log_precision)"
   ]
  },
  {
   "cell_type": "markdown",
   "id": "1b0137f5",
   "metadata": {},
   "source": [
    "### 2.Naive Bayes Classifier\n"
   ]
  },
  {
   "cell_type": "code",
   "execution_count": 75,
   "id": "1c45975a",
   "metadata": {},
   "outputs": [
    {
     "name": "stdout",
     "output_type": "stream",
     "text": [
      "Best Hyperparameters: {'var_smoothing': 0.001}\n",
      "Accuracy: 0.728500355366027\n",
      "Precision: 0.4931740614334471\n",
      "Recall: 0.7727272727272727\n",
      "F1 Score: 0.6020833333333333\n"
     ]
    }
   ],
   "source": [
    "from sklearn.naive_bayes import GaussianNB\n",
    "\n",
    "hyperparameters = {\n",
    "    'var_smoothing': [10**(-x) for x in range(1, 11)]\n",
    "#     'var_smoothing': [0.005,0.001,0.01]\n",
    "    \n",
    "}\n",
    "\n",
    "model = GaussianNB()\n",
    "_, best_model_naive = train(X_train, y_train, model, hyperparameters)\n",
    "scores_naive = evaluate_model(X_test, y_test, best_model_naive)"
   ]
  },
  {
   "cell_type": "code",
   "execution_count": 76,
   "id": "714c7ac8",
   "metadata": {},
   "outputs": [],
   "source": [
    "# naive_recall = scores[2]\n",
    "# print(naive_recall)"
   ]
  },
  {
   "cell_type": "markdown",
   "id": "d0e5181d",
   "metadata": {},
   "source": [
    "### 3.Decision Tree Classifier"
   ]
  },
  {
   "cell_type": "code",
   "execution_count": 77,
   "id": "ed6c02e7",
   "metadata": {},
   "outputs": [
    {
     "name": "stdout",
     "output_type": "stream",
     "text": [
      "Best Hyperparameters: {'max_depth': 5, 'min_samples_split': 5}\n",
      "Accuracy: 0.7782515991471215\n",
      "Precision: 0.581151832460733\n",
      "Recall: 0.5935828877005348\n",
      "F1 Score: 0.5873015873015873\n"
     ]
    }
   ],
   "source": [
    "\n",
    "from sklearn.tree import DecisionTreeClassifier\n",
    "\n",
    "hyperparameters = {\n",
    "    'max_depth': [3, 5, 7, 9],\n",
    "    'min_samples_split': [2, 5, 10]\n",
    "}\n",
    "\n",
    "model = DecisionTreeClassifier()\n",
    "_, best_model_decision = train(X_train, y_train, model, hyperparameters)\n",
    "scores_decision = evaluate_model(X_test, y_test, best_model_decision)"
   ]
  },
  {
   "cell_type": "code",
   "execution_count": null,
   "id": "83861856",
   "metadata": {},
   "outputs": [],
   "source": [
    "# decision_recall = scores[2]\n",
    "# print(decision_recall)"
   ]
  },
  {
   "cell_type": "code",
   "execution_count": null,
   "id": "62644cfc",
   "metadata": {},
   "outputs": [],
   "source": [
    "# print(precision,recall)"
   ]
  },
  {
   "cell_type": "markdown",
   "id": "6e5cd2d5",
   "metadata": {},
   "source": [
    "### 4.Random Forest Classifier"
   ]
  },
  {
   "cell_type": "code",
   "execution_count": null,
   "id": "3312b813",
   "metadata": {},
   "outputs": [],
   "source": [
    "# from sklearn.ensemble import RandomForestClassifier\n",
    "\n",
    "# hyperparameters = {\n",
    "#     'n_estimators': [100,120,150],\n",
    "#     'max_depth': [3,5,7,9],\n",
    "#     'min_samples_split': [7,8,10,12]\n",
    "# }\n",
    "\n",
    "# model = RandomForestClassifier()\n",
    "# _, best_model_random = train(X_train, y_train, model, hyperparameters)\n",
    "# scores_random = evaluate_model(X_test, y_test, best_model_random)"
   ]
  },
  {
   "cell_type": "code",
   "execution_count": null,
   "id": "24b42544",
   "metadata": {},
   "outputs": [],
   "source": []
  },
  {
   "cell_type": "raw",
   "id": "0b046e20",
   "metadata": {},
   "source": []
  },
  {
   "cell_type": "code",
   "execution_count": 79,
   "id": "8a5d647e",
   "metadata": {},
   "outputs": [
    {
     "name": "stdout",
     "output_type": "stream",
     "text": [
      "GaussianNB(var_smoothing=0.001)\n"
     ]
    }
   ],
   "source": [
    "print(best_model_naive)"
   ]
  },
  {
   "cell_type": "code",
   "execution_count": 80,
   "id": "173d0fc8",
   "metadata": {},
   "outputs": [
    {
     "name": "stdout",
     "output_type": "stream",
     "text": [
      "0.7727272727272727\n"
     ]
    }
   ],
   "source": [
    "print(scores_naive[2])"
   ]
  },
  {
   "cell_type": "raw",
   "id": "792bb7c5",
   "metadata": {},
   "source": [
    "We found that the best model we've trained is Naive Baiyes Classifier which gave the recall score of 0.77 with best hyperparameter tuned."
   ]
  },
  {
   "cell_type": "markdown",
   "id": "5e7ab51a",
   "metadata": {},
   "source": [
    "# Predicting the result in new dataset"
   ]
  },
  {
   "cell_type": "code",
   "execution_count": 83,
   "id": "3a089e57",
   "metadata": {},
   "outputs": [
    {
     "name": "stdout",
     "output_type": "stream",
     "text": [
      "Index(['SeniorCitizen', 'Partner', 'Dependents', 'tenure', 'OnlineSecurity',\n",
      "       'TechSupport', 'PaperlessBilling', 'MonthlyCharges', 'TotalCharges',\n",
      "       'InternetService_DSL', 'InternetService_Fiber optic',\n",
      "       'InternetService_No', 'Contract_Month-to-month', 'Contract_One year',\n",
      "       'Contract_Two year', 'PaymentMethod_Bank transfer (automatic)',\n",
      "       'PaymentMethod_Credit card (automatic)',\n",
      "       'PaymentMethod_Electronic check', 'PaymentMethod_Mailed check'],\n",
      "      dtype='object')\n"
     ]
    }
   ],
   "source": [
    "print(X_train.columns)"
   ]
  },
  {
   "cell_type": "code",
   "execution_count": 84,
   "id": "8a7661c4",
   "metadata": {},
   "outputs": [
    {
     "data": {
      "text/html": [
       "<div>\n",
       "<style scoped>\n",
       "    .dataframe tbody tr th:only-of-type {\n",
       "        vertical-align: middle;\n",
       "    }\n",
       "\n",
       "    .dataframe tbody tr th {\n",
       "        vertical-align: top;\n",
       "    }\n",
       "\n",
       "    .dataframe thead th {\n",
       "        text-align: right;\n",
       "    }\n",
       "</style>\n",
       "<table border=\"1\" class=\"dataframe\">\n",
       "  <thead>\n",
       "    <tr style=\"text-align: right;\">\n",
       "      <th></th>\n",
       "      <th>SeniorCitizen</th>\n",
       "      <th>Partner</th>\n",
       "      <th>Dependents</th>\n",
       "      <th>tenure</th>\n",
       "      <th>OnlineSecurity</th>\n",
       "      <th>TechSupport</th>\n",
       "      <th>PaperlessBilling</th>\n",
       "      <th>MonthlyCharges</th>\n",
       "      <th>TotalCharges</th>\n",
       "      <th>InternetService_DSL</th>\n",
       "      <th>InternetService_Fiber optic</th>\n",
       "      <th>InternetService_No</th>\n",
       "      <th>Contract_Month-to-month</th>\n",
       "      <th>Contract_One year</th>\n",
       "      <th>Contract_Two year</th>\n",
       "      <th>PaymentMethod_Bank transfer (automatic)</th>\n",
       "      <th>PaymentMethod_Credit card (automatic)</th>\n",
       "      <th>PaymentMethod_Electronic check</th>\n",
       "      <th>PaymentMethod_Mailed check</th>\n",
       "    </tr>\n",
       "  </thead>\n",
       "  <tbody>\n",
       "    <tr>\n",
       "      <th>6030</th>\n",
       "      <td>0</td>\n",
       "      <td>0</td>\n",
       "      <td>0</td>\n",
       "      <td>0.591549</td>\n",
       "      <td>0</td>\n",
       "      <td>0</td>\n",
       "      <td>1</td>\n",
       "      <td>0.306468</td>\n",
       "      <td>0.237411</td>\n",
       "      <td>1</td>\n",
       "      <td>0</td>\n",
       "      <td>0</td>\n",
       "      <td>1</td>\n",
       "      <td>0</td>\n",
       "      <td>0</td>\n",
       "      <td>1</td>\n",
       "      <td>0</td>\n",
       "      <td>0</td>\n",
       "      <td>0</td>\n",
       "    </tr>\n",
       "    <tr>\n",
       "      <th>3410</th>\n",
       "      <td>0</td>\n",
       "      <td>0</td>\n",
       "      <td>0</td>\n",
       "      <td>0.028169</td>\n",
       "      <td>0</td>\n",
       "      <td>0</td>\n",
       "      <td>0</td>\n",
       "      <td>0.349751</td>\n",
       "      <td>0.019605</td>\n",
       "      <td>1</td>\n",
       "      <td>0</td>\n",
       "      <td>0</td>\n",
       "      <td>1</td>\n",
       "      <td>0</td>\n",
       "      <td>0</td>\n",
       "      <td>0</td>\n",
       "      <td>1</td>\n",
       "      <td>0</td>\n",
       "      <td>0</td>\n",
       "    </tr>\n",
       "    <tr>\n",
       "      <th>5483</th>\n",
       "      <td>0</td>\n",
       "      <td>1</td>\n",
       "      <td>0</td>\n",
       "      <td>0.760563</td>\n",
       "      <td>0</td>\n",
       "      <td>0</td>\n",
       "      <td>1</td>\n",
       "      <td>0.592040</td>\n",
       "      <td>0.512272</td>\n",
       "      <td>0</td>\n",
       "      <td>1</td>\n",
       "      <td>0</td>\n",
       "      <td>1</td>\n",
       "      <td>0</td>\n",
       "      <td>0</td>\n",
       "      <td>0</td>\n",
       "      <td>0</td>\n",
       "      <td>1</td>\n",
       "      <td>0</td>\n",
       "    </tr>\n",
       "    <tr>\n",
       "      <th>5524</th>\n",
       "      <td>0</td>\n",
       "      <td>1</td>\n",
       "      <td>1</td>\n",
       "      <td>0.619718</td>\n",
       "      <td>1</td>\n",
       "      <td>1</td>\n",
       "      <td>0</td>\n",
       "      <td>0.362189</td>\n",
       "      <td>0.292511</td>\n",
       "      <td>1</td>\n",
       "      <td>0</td>\n",
       "      <td>0</td>\n",
       "      <td>0</td>\n",
       "      <td>0</td>\n",
       "      <td>1</td>\n",
       "      <td>1</td>\n",
       "      <td>0</td>\n",
       "      <td>0</td>\n",
       "      <td>0</td>\n",
       "    </tr>\n",
       "    <tr>\n",
       "      <th>6337</th>\n",
       "      <td>0</td>\n",
       "      <td>1</td>\n",
       "      <td>1</td>\n",
       "      <td>0.760563</td>\n",
       "      <td>1</td>\n",
       "      <td>0</td>\n",
       "      <td>0</td>\n",
       "      <td>0.822388</td>\n",
       "      <td>0.626564</td>\n",
       "      <td>0</td>\n",
       "      <td>1</td>\n",
       "      <td>0</td>\n",
       "      <td>0</td>\n",
       "      <td>1</td>\n",
       "      <td>0</td>\n",
       "      <td>0</td>\n",
       "      <td>0</td>\n",
       "      <td>0</td>\n",
       "      <td>1</td>\n",
       "    </tr>\n",
       "  </tbody>\n",
       "</table>\n",
       "</div>"
      ],
      "text/plain": [
       "      SeniorCitizen  Partner  Dependents    tenure  OnlineSecurity   \n",
       "6030              0        0           0  0.591549               0  \\\n",
       "3410              0        0           0  0.028169               0   \n",
       "5483              0        1           0  0.760563               0   \n",
       "5524              0        1           1  0.619718               1   \n",
       "6337              0        1           1  0.760563               1   \n",
       "\n",
       "      TechSupport  PaperlessBilling  MonthlyCharges  TotalCharges   \n",
       "6030            0                 1        0.306468      0.237411  \\\n",
       "3410            0                 0        0.349751      0.019605   \n",
       "5483            0                 1        0.592040      0.512272   \n",
       "5524            1                 0        0.362189      0.292511   \n",
       "6337            0                 0        0.822388      0.626564   \n",
       "\n",
       "      InternetService_DSL  InternetService_Fiber optic  InternetService_No   \n",
       "6030                    1                            0                   0  \\\n",
       "3410                    1                            0                   0   \n",
       "5483                    0                            1                   0   \n",
       "5524                    1                            0                   0   \n",
       "6337                    0                            1                   0   \n",
       "\n",
       "      Contract_Month-to-month  Contract_One year  Contract_Two year   \n",
       "6030                        1                  0                  0  \\\n",
       "3410                        1                  0                  0   \n",
       "5483                        1                  0                  0   \n",
       "5524                        0                  0                  1   \n",
       "6337                        0                  1                  0   \n",
       "\n",
       "      PaymentMethod_Bank transfer (automatic)   \n",
       "6030                                        1  \\\n",
       "3410                                        0   \n",
       "5483                                        0   \n",
       "5524                                        1   \n",
       "6337                                        0   \n",
       "\n",
       "      PaymentMethod_Credit card (automatic)  PaymentMethod_Electronic check   \n",
       "6030                                      0                               0  \\\n",
       "3410                                      1                               0   \n",
       "5483                                      0                               1   \n",
       "5524                                      0                               0   \n",
       "6337                                      0                               0   \n",
       "\n",
       "      PaymentMethod_Mailed check  \n",
       "6030                           0  \n",
       "3410                           0  \n",
       "5483                           0  \n",
       "5524                           0  \n",
       "6337                           1  "
      ]
     },
     "execution_count": 84,
     "metadata": {},
     "output_type": "execute_result"
    }
   ],
   "source": [
    "X_train.head()"
   ]
  },
  {
   "cell_type": "raw",
   "id": "9a236673",
   "metadata": {},
   "source": [
    "Giving the input features:"
   ]
  },
  {
   "cell_type": "code",
   "execution_count": 85,
   "id": "88f924a7",
   "metadata": {},
   "outputs": [],
   "source": [
    "input_data = (0,0,0,0.591549,0,0,1,0.306468,0.237411,1,0,0,1,0,0,1,0,0,0)"
   ]
  },
  {
   "cell_type": "raw",
   "id": "b9145898",
   "metadata": {},
   "source": [
    "Converting the tuple values into numpy array"
   ]
  },
  {
   "cell_type": "code",
   "execution_count": 86,
   "id": "8115c6a6",
   "metadata": {},
   "outputs": [],
   "source": [
    "input_data = np.asarray(input_data)"
   ]
  },
  {
   "cell_type": "code",
   "execution_count": 87,
   "id": "faea1294",
   "metadata": {},
   "outputs": [
    {
     "name": "stdout",
     "output_type": "stream",
     "text": [
      "[0.       0.       0.       0.591549 0.       0.       1.       0.306468\n",
      " 0.237411 1.       0.       0.       1.       0.       0.       1.\n",
      " 0.       0.       0.      ]\n"
     ]
    }
   ],
   "source": [
    "print(input_data)"
   ]
  },
  {
   "cell_type": "raw",
   "id": "a3a7fad6",
   "metadata": {},
   "source": [
    "Reshaping the data as we have a single sample"
   ]
  },
  {
   "cell_type": "code",
   "execution_count": 89,
   "id": "840d25a2",
   "metadata": {},
   "outputs": [],
   "source": [
    "input_data = input_data.reshape(1,-1)"
   ]
  },
  {
   "cell_type": "raw",
   "id": "6992bb7f",
   "metadata": {},
   "source": [
    " Predicting whether the customer churns or not:\n"
   ]
  },
  {
   "cell_type": "code",
   "execution_count": null,
   "id": "18f2a55c",
   "metadata": {},
   "outputs": [],
   "source": []
  },
  {
   "cell_type": "code",
   "execution_count": 90,
   "id": "06c27fc7",
   "metadata": {},
   "outputs": [
    {
     "name": "stdout",
     "output_type": "stream",
     "text": [
      "[1]\n"
     ]
    },
    {
     "name": "stderr",
     "output_type": "stream",
     "text": [
      "C:\\Users\\admin\\AppData\\Local\\Programs\\Python\\Python310\\lib\\site-packages\\sklearn\\base.py:439: UserWarning: X does not have valid feature names, but GaussianNB was fitted with feature names\n",
      "  warnings.warn(\n"
     ]
    }
   ],
   "source": [
    "print(best_model_naive.predict(input_data))"
   ]
  },
  {
   "cell_type": "markdown",
   "id": "0bc2c90f",
   "metadata": {},
   "source": [
    "### We found that the customer have a chance of leaving the service for the given input data."
   ]
  },
  {
   "cell_type": "code",
   "execution_count": null,
   "id": "2281c75c",
   "metadata": {},
   "outputs": [],
   "source": []
  },
  {
   "cell_type": "code",
   "execution_count": null,
   "id": "e491947a",
   "metadata": {},
   "outputs": [],
   "source": []
  }
 ],
 "metadata": {
  "kernelspec": {
   "display_name": "Python 3 (ipykernel)",
   "language": "python",
   "name": "python3"
  },
  "language_info": {
   "codemirror_mode": {
    "name": "ipython",
    "version": 3
   },
   "file_extension": ".py",
   "mimetype": "text/x-python",
   "name": "python",
   "nbconvert_exporter": "python",
   "pygments_lexer": "ipython3",
   "version": "3.10.2"
  }
 },
 "nbformat": 4,
 "nbformat_minor": 5
}
